{
 "cells": [
  {
   "cell_type": "markdown",
   "source": [
    "# Caso de Estudio - Estadísticas del Basketball\n",
    "\n",
    "La NBA guarda estadísticos sobre los juegos entre los diferentes equipos y tenemos una base de datos llamada `NBA_2016_games.csv` disponible (en partes) en:\n",
    "\n",
    "[https://www.basketball-reference.com/leagues/NBA_2016_games.html](https://www.basketball-reference.com/leagues/NBA_2016_games.html)\n",
    "\n",
    "El dataset de este estudio será sobre los partidos entre equipos y el análisis de si ganará el equipo local o el equipo visitante. El dataset se basa en `Schedule and Results` y le damos para cada mes en exportar como CSV.\n",
    "\n",
    "Recolectamos la información de los partidos de la temporada del 2016, obteniendo `1,316` registros para cada partido."
   ],
   "metadata": {
    "collapsed": false
   }
  },
  {
   "cell_type": "markdown",
   "source": [
    "## 1. Cargar los datos de los partidos"
   ],
   "metadata": {
    "collapsed": false
   }
  },
  {
   "cell_type": "code",
   "execution_count": 10,
   "metadata": {
    "collapsed": true,
    "ExecuteTime": {
     "start_time": "2023-04-26T11:08:32.470867Z",
     "end_time": "2023-04-26T11:08:32.741642Z"
    }
   },
   "outputs": [
    {
     "data": {
      "text/plain": "               Date Start (ET)       Visitor/Neutral  PTS   \n15  Wed Oct 28 2015     10:00p  Los Angeles Clippers  111  \\\n4   Wed Oct 28 2015      7:30p    Philadelphia 76ers   95   \n10  Wed Oct 28 2015      8:00p     San Antonio Spurs  106   \n11  Wed Oct 28 2015      8:00p   Cleveland Cavaliers  106   \n24  Fri Oct 30 2015      7:30p         Chicago Bulls   94   \n9   Wed Oct 28 2015      8:00p       New York Knicks  122   \n35  Sat Oct 31 2015      8:00p         Brooklyn Nets   91   \n27  Fri Oct 30 2015      8:30p         Brooklyn Nets   75   \n8   Wed Oct 28 2015      7:30p     Charlotte Hornets   94   \n18  Thu Oct 29 2015      8:00p         Atlanta Hawks  112   \n\n             Home/Neutral  PTS.1 Unnamed: 6 Unnamed: 7  Attend.   \n15       Sacramento Kings    104  Box Score        NaN    17458  \\\n4          Boston Celtics    112  Box Score        NaN    18624   \n10  Oklahoma City Thunder    112  Box Score        NaN    18203   \n11      Memphis Grizzlies     76  Box Score        NaN    18119   \n24        Detroit Pistons     98  Box Score         OT    16035   \n9         Milwaukee Bucks     97  Box Score        NaN    18717   \n35      Memphis Grizzlies    101  Box Score        NaN    16013   \n27      San Antonio Spurs    102  Box Score        NaN    18418   \n8              Miami Heat    104  Box Score        NaN    19724   \n18        New York Knicks    101  Box Score        NaN    19812   \n\n                         Arena  Notes  \n15           Sleep Train Arena    NaN  \n4                    TD Garden    NaN  \n10     Chesapeake Energy Arena    NaN  \n11                 FedEx Forum    NaN  \n24  The Palace of Auburn Hills    NaN  \n9    BMO Harris Bradley Center    NaN  \n35                 FedEx Forum    NaN  \n27                 AT&T Center    NaN  \n8       AmericanAirlines Arena    NaN  \n18  Madison Square Garden (IV)    NaN  ",
      "text/html": "<div>\n<style scoped>\n    .dataframe tbody tr th:only-of-type {\n        vertical-align: middle;\n    }\n\n    .dataframe tbody tr th {\n        vertical-align: top;\n    }\n\n    .dataframe thead th {\n        text-align: right;\n    }\n</style>\n<table border=\"1\" class=\"dataframe\">\n  <thead>\n    <tr style=\"text-align: right;\">\n      <th></th>\n      <th>Date</th>\n      <th>Start (ET)</th>\n      <th>Visitor/Neutral</th>\n      <th>PTS</th>\n      <th>Home/Neutral</th>\n      <th>PTS.1</th>\n      <th>Unnamed: 6</th>\n      <th>Unnamed: 7</th>\n      <th>Attend.</th>\n      <th>Arena</th>\n      <th>Notes</th>\n    </tr>\n  </thead>\n  <tbody>\n    <tr>\n      <th>15</th>\n      <td>Wed Oct 28 2015</td>\n      <td>10:00p</td>\n      <td>Los Angeles Clippers</td>\n      <td>111</td>\n      <td>Sacramento Kings</td>\n      <td>104</td>\n      <td>Box Score</td>\n      <td>NaN</td>\n      <td>17458</td>\n      <td>Sleep Train Arena</td>\n      <td>NaN</td>\n    </tr>\n    <tr>\n      <th>4</th>\n      <td>Wed Oct 28 2015</td>\n      <td>7:30p</td>\n      <td>Philadelphia 76ers</td>\n      <td>95</td>\n      <td>Boston Celtics</td>\n      <td>112</td>\n      <td>Box Score</td>\n      <td>NaN</td>\n      <td>18624</td>\n      <td>TD Garden</td>\n      <td>NaN</td>\n    </tr>\n    <tr>\n      <th>10</th>\n      <td>Wed Oct 28 2015</td>\n      <td>8:00p</td>\n      <td>San Antonio Spurs</td>\n      <td>106</td>\n      <td>Oklahoma City Thunder</td>\n      <td>112</td>\n      <td>Box Score</td>\n      <td>NaN</td>\n      <td>18203</td>\n      <td>Chesapeake Energy Arena</td>\n      <td>NaN</td>\n    </tr>\n    <tr>\n      <th>11</th>\n      <td>Wed Oct 28 2015</td>\n      <td>8:00p</td>\n      <td>Cleveland Cavaliers</td>\n      <td>106</td>\n      <td>Memphis Grizzlies</td>\n      <td>76</td>\n      <td>Box Score</td>\n      <td>NaN</td>\n      <td>18119</td>\n      <td>FedEx Forum</td>\n      <td>NaN</td>\n    </tr>\n    <tr>\n      <th>24</th>\n      <td>Fri Oct 30 2015</td>\n      <td>7:30p</td>\n      <td>Chicago Bulls</td>\n      <td>94</td>\n      <td>Detroit Pistons</td>\n      <td>98</td>\n      <td>Box Score</td>\n      <td>OT</td>\n      <td>16035</td>\n      <td>The Palace of Auburn Hills</td>\n      <td>NaN</td>\n    </tr>\n    <tr>\n      <th>9</th>\n      <td>Wed Oct 28 2015</td>\n      <td>8:00p</td>\n      <td>New York Knicks</td>\n      <td>122</td>\n      <td>Milwaukee Bucks</td>\n      <td>97</td>\n      <td>Box Score</td>\n      <td>NaN</td>\n      <td>18717</td>\n      <td>BMO Harris Bradley Center</td>\n      <td>NaN</td>\n    </tr>\n    <tr>\n      <th>35</th>\n      <td>Sat Oct 31 2015</td>\n      <td>8:00p</td>\n      <td>Brooklyn Nets</td>\n      <td>91</td>\n      <td>Memphis Grizzlies</td>\n      <td>101</td>\n      <td>Box Score</td>\n      <td>NaN</td>\n      <td>16013</td>\n      <td>FedEx Forum</td>\n      <td>NaN</td>\n    </tr>\n    <tr>\n      <th>27</th>\n      <td>Fri Oct 30 2015</td>\n      <td>8:30p</td>\n      <td>Brooklyn Nets</td>\n      <td>75</td>\n      <td>San Antonio Spurs</td>\n      <td>102</td>\n      <td>Box Score</td>\n      <td>NaN</td>\n      <td>18418</td>\n      <td>AT&amp;T Center</td>\n      <td>NaN</td>\n    </tr>\n    <tr>\n      <th>8</th>\n      <td>Wed Oct 28 2015</td>\n      <td>7:30p</td>\n      <td>Charlotte Hornets</td>\n      <td>94</td>\n      <td>Miami Heat</td>\n      <td>104</td>\n      <td>Box Score</td>\n      <td>NaN</td>\n      <td>19724</td>\n      <td>AmericanAirlines Arena</td>\n      <td>NaN</td>\n    </tr>\n    <tr>\n      <th>18</th>\n      <td>Thu Oct 29 2015</td>\n      <td>8:00p</td>\n      <td>Atlanta Hawks</td>\n      <td>112</td>\n      <td>New York Knicks</td>\n      <td>101</td>\n      <td>Box Score</td>\n      <td>NaN</td>\n      <td>19812</td>\n      <td>Madison Square Garden (IV)</td>\n      <td>NaN</td>\n    </tr>\n  </tbody>\n</table>\n</div>"
     },
     "execution_count": 10,
     "metadata": {},
     "output_type": "execute_result"
    }
   ],
   "source": [
    "import pandas as pd\n",
    "\n",
    "games = pd.read_csv(\"https://raw.githubusercontent.com/dragonnomada/kryteria-deep-learning/main/data/basketball/NBA_2016_games.csv\")\n",
    "\n",
    "games.sample(10)"
   ]
  },
  {
   "cell_type": "markdown",
   "source": [
    "## 2. Renombrar las columnas para manipularlas fácilmente"
   ],
   "metadata": {
    "collapsed": false
   }
  },
  {
   "cell_type": "code",
   "execution_count": 11,
   "outputs": [
    {
     "data": {
      "text/plain": "              DATE   START          VISITOR_TEAM  VISITOR_POINTS   \n0  Tue Oct 27 2015   8:00p   Cleveland Cavaliers              95  \\\n1  Tue Oct 27 2015   8:00p       Detroit Pistons             106   \n2  Tue Oct 27 2015  10:30p  New Orleans Pelicans              95   \n3  Wed Oct 28 2015   7:00p    Washington Wizards              88   \n4  Wed Oct 28 2015   7:30p    Philadelphia 76ers              95   \n\n               HOME_TEAM  HOME_POINTS SCORE_TYPE OVER_TIME  USERS   \n0          Chicago Bulls           97  Box Score       NaN  21957  \\\n1          Atlanta Hawks           94  Box Score       NaN  19187   \n2  Golden State Warriors          111  Box Score       NaN  19596   \n3          Orlando Magic           87  Box Score       NaN  18846   \n4         Boston Celtics          112  Box Score       NaN  18624   \n\n           ARENA  NOTES  \n0  United Center    NaN  \n1  Philips Arena    NaN  \n2   Oracle Arena    NaN  \n3   Amway Center    NaN  \n4      TD Garden    NaN  ",
      "text/html": "<div>\n<style scoped>\n    .dataframe tbody tr th:only-of-type {\n        vertical-align: middle;\n    }\n\n    .dataframe tbody tr th {\n        vertical-align: top;\n    }\n\n    .dataframe thead th {\n        text-align: right;\n    }\n</style>\n<table border=\"1\" class=\"dataframe\">\n  <thead>\n    <tr style=\"text-align: right;\">\n      <th></th>\n      <th>DATE</th>\n      <th>START</th>\n      <th>VISITOR_TEAM</th>\n      <th>VISITOR_POINTS</th>\n      <th>HOME_TEAM</th>\n      <th>HOME_POINTS</th>\n      <th>SCORE_TYPE</th>\n      <th>OVER_TIME</th>\n      <th>USERS</th>\n      <th>ARENA</th>\n      <th>NOTES</th>\n    </tr>\n  </thead>\n  <tbody>\n    <tr>\n      <th>0</th>\n      <td>Tue Oct 27 2015</td>\n      <td>8:00p</td>\n      <td>Cleveland Cavaliers</td>\n      <td>95</td>\n      <td>Chicago Bulls</td>\n      <td>97</td>\n      <td>Box Score</td>\n      <td>NaN</td>\n      <td>21957</td>\n      <td>United Center</td>\n      <td>NaN</td>\n    </tr>\n    <tr>\n      <th>1</th>\n      <td>Tue Oct 27 2015</td>\n      <td>8:00p</td>\n      <td>Detroit Pistons</td>\n      <td>106</td>\n      <td>Atlanta Hawks</td>\n      <td>94</td>\n      <td>Box Score</td>\n      <td>NaN</td>\n      <td>19187</td>\n      <td>Philips Arena</td>\n      <td>NaN</td>\n    </tr>\n    <tr>\n      <th>2</th>\n      <td>Tue Oct 27 2015</td>\n      <td>10:30p</td>\n      <td>New Orleans Pelicans</td>\n      <td>95</td>\n      <td>Golden State Warriors</td>\n      <td>111</td>\n      <td>Box Score</td>\n      <td>NaN</td>\n      <td>19596</td>\n      <td>Oracle Arena</td>\n      <td>NaN</td>\n    </tr>\n    <tr>\n      <th>3</th>\n      <td>Wed Oct 28 2015</td>\n      <td>7:00p</td>\n      <td>Washington Wizards</td>\n      <td>88</td>\n      <td>Orlando Magic</td>\n      <td>87</td>\n      <td>Box Score</td>\n      <td>NaN</td>\n      <td>18846</td>\n      <td>Amway Center</td>\n      <td>NaN</td>\n    </tr>\n    <tr>\n      <th>4</th>\n      <td>Wed Oct 28 2015</td>\n      <td>7:30p</td>\n      <td>Philadelphia 76ers</td>\n      <td>95</td>\n      <td>Boston Celtics</td>\n      <td>112</td>\n      <td>Box Score</td>\n      <td>NaN</td>\n      <td>18624</td>\n      <td>TD Garden</td>\n      <td>NaN</td>\n    </tr>\n  </tbody>\n</table>\n</div>"
     },
     "execution_count": 11,
     "metadata": {},
     "output_type": "execute_result"
    }
   ],
   "source": [
    "games.columns = [\"DATE\", \"START\", \"VISITOR_TEAM\", \"VISITOR_POINTS\", \"HOME_TEAM\", \"HOME_POINTS\", \"SCORE_TYPE\", \"OVER_TIME\", \"USERS\", \"ARENA\", \"NOTES\"]\n",
    "\n",
    "games.head()"
   ],
   "metadata": {
    "collapsed": false,
    "ExecuteTime": {
     "start_time": "2023-04-26T11:08:32.744106Z",
     "end_time": "2023-04-26T11:08:32.796387Z"
    }
   }
  },
  {
   "cell_type": "markdown",
   "source": [
    "## 3. Reducir y reordenar las columnas\n",
    "\n",
    "Reemplazamos el dataframe con solo las columnas indicadas en ese orden, ahora el dataframe tendrá solo estas columnas en ese orden. A esto se le conoce como enmascarar el dataset."
   ],
   "metadata": {
    "collapsed": false
   }
  },
  {
   "cell_type": "code",
   "execution_count": 12,
   "outputs": [
    {
     "data": {
      "text/plain": "              DATE   START              HOME_TEAM  HOME_POINTS   \n0  Tue Oct 27 2015   8:00p          Chicago Bulls           97  \\\n1  Tue Oct 27 2015   8:00p          Atlanta Hawks           94   \n2  Tue Oct 27 2015  10:30p  Golden State Warriors          111   \n3  Wed Oct 28 2015   7:00p          Orlando Magic           87   \n4  Wed Oct 28 2015   7:30p         Boston Celtics          112   \n\n           VISITOR_TEAM  VISITOR_POINTS  \n0   Cleveland Cavaliers              95  \n1       Detroit Pistons             106  \n2  New Orleans Pelicans              95  \n3    Washington Wizards              88  \n4    Philadelphia 76ers              95  ",
      "text/html": "<div>\n<style scoped>\n    .dataframe tbody tr th:only-of-type {\n        vertical-align: middle;\n    }\n\n    .dataframe tbody tr th {\n        vertical-align: top;\n    }\n\n    .dataframe thead th {\n        text-align: right;\n    }\n</style>\n<table border=\"1\" class=\"dataframe\">\n  <thead>\n    <tr style=\"text-align: right;\">\n      <th></th>\n      <th>DATE</th>\n      <th>START</th>\n      <th>HOME_TEAM</th>\n      <th>HOME_POINTS</th>\n      <th>VISITOR_TEAM</th>\n      <th>VISITOR_POINTS</th>\n    </tr>\n  </thead>\n  <tbody>\n    <tr>\n      <th>0</th>\n      <td>Tue Oct 27 2015</td>\n      <td>8:00p</td>\n      <td>Chicago Bulls</td>\n      <td>97</td>\n      <td>Cleveland Cavaliers</td>\n      <td>95</td>\n    </tr>\n    <tr>\n      <th>1</th>\n      <td>Tue Oct 27 2015</td>\n      <td>8:00p</td>\n      <td>Atlanta Hawks</td>\n      <td>94</td>\n      <td>Detroit Pistons</td>\n      <td>106</td>\n    </tr>\n    <tr>\n      <th>2</th>\n      <td>Tue Oct 27 2015</td>\n      <td>10:30p</td>\n      <td>Golden State Warriors</td>\n      <td>111</td>\n      <td>New Orleans Pelicans</td>\n      <td>95</td>\n    </tr>\n    <tr>\n      <th>3</th>\n      <td>Wed Oct 28 2015</td>\n      <td>7:00p</td>\n      <td>Orlando Magic</td>\n      <td>87</td>\n      <td>Washington Wizards</td>\n      <td>88</td>\n    </tr>\n    <tr>\n      <th>4</th>\n      <td>Wed Oct 28 2015</td>\n      <td>7:30p</td>\n      <td>Boston Celtics</td>\n      <td>112</td>\n      <td>Philadelphia 76ers</td>\n      <td>95</td>\n    </tr>\n  </tbody>\n</table>\n</div>"
     },
     "execution_count": 12,
     "metadata": {},
     "output_type": "execute_result"
    }
   ],
   "source": [
    "# data[ mask ]\n",
    "# mask - [\"col1\", \"col2\", ..., \"colN\"]\n",
    "games = games[ [\"DATE\", \"START\", \"HOME_TEAM\", \"HOME_POINTS\", \"VISITOR_TEAM\", \"VISITOR_POINTS\"] ]\n",
    "\n",
    "games.head()"
   ],
   "metadata": {
    "collapsed": false,
    "ExecuteTime": {
     "start_time": "2023-04-26T11:08:32.757969Z",
     "end_time": "2023-04-26T11:08:32.831713Z"
    }
   }
  },
  {
   "cell_type": "markdown",
   "source": [
    "## 4. Creamos una nueva columna llamada `HOME_WIN`\n",
    "\n",
    "Valdrá True si ganó el local (los puntos del local son mayores a los del visitante)."
   ],
   "metadata": {
    "collapsed": false
   }
  },
  {
   "cell_type": "code",
   "execution_count": 13,
   "outputs": [
    {
     "data": {
      "text/plain": "              DATE   START              HOME_TEAM  HOME_POINTS   \n0  Tue Oct 27 2015   8:00p          Chicago Bulls           97  \\\n1  Tue Oct 27 2015   8:00p          Atlanta Hawks           94   \n2  Tue Oct 27 2015  10:30p  Golden State Warriors          111   \n3  Wed Oct 28 2015   7:00p          Orlando Magic           87   \n4  Wed Oct 28 2015   7:30p         Boston Celtics          112   \n\n           VISITOR_TEAM  VISITOR_POINTS  HOME_WIN  \n0   Cleveland Cavaliers              95      True  \n1       Detroit Pistons             106     False  \n2  New Orleans Pelicans              95      True  \n3    Washington Wizards              88     False  \n4    Philadelphia 76ers              95      True  ",
      "text/html": "<div>\n<style scoped>\n    .dataframe tbody tr th:only-of-type {\n        vertical-align: middle;\n    }\n\n    .dataframe tbody tr th {\n        vertical-align: top;\n    }\n\n    .dataframe thead th {\n        text-align: right;\n    }\n</style>\n<table border=\"1\" class=\"dataframe\">\n  <thead>\n    <tr style=\"text-align: right;\">\n      <th></th>\n      <th>DATE</th>\n      <th>START</th>\n      <th>HOME_TEAM</th>\n      <th>HOME_POINTS</th>\n      <th>VISITOR_TEAM</th>\n      <th>VISITOR_POINTS</th>\n      <th>HOME_WIN</th>\n    </tr>\n  </thead>\n  <tbody>\n    <tr>\n      <th>0</th>\n      <td>Tue Oct 27 2015</td>\n      <td>8:00p</td>\n      <td>Chicago Bulls</td>\n      <td>97</td>\n      <td>Cleveland Cavaliers</td>\n      <td>95</td>\n      <td>True</td>\n    </tr>\n    <tr>\n      <th>1</th>\n      <td>Tue Oct 27 2015</td>\n      <td>8:00p</td>\n      <td>Atlanta Hawks</td>\n      <td>94</td>\n      <td>Detroit Pistons</td>\n      <td>106</td>\n      <td>False</td>\n    </tr>\n    <tr>\n      <th>2</th>\n      <td>Tue Oct 27 2015</td>\n      <td>10:30p</td>\n      <td>Golden State Warriors</td>\n      <td>111</td>\n      <td>New Orleans Pelicans</td>\n      <td>95</td>\n      <td>True</td>\n    </tr>\n    <tr>\n      <th>3</th>\n      <td>Wed Oct 28 2015</td>\n      <td>7:00p</td>\n      <td>Orlando Magic</td>\n      <td>87</td>\n      <td>Washington Wizards</td>\n      <td>88</td>\n      <td>False</td>\n    </tr>\n    <tr>\n      <th>4</th>\n      <td>Wed Oct 28 2015</td>\n      <td>7:30p</td>\n      <td>Boston Celtics</td>\n      <td>112</td>\n      <td>Philadelphia 76ers</td>\n      <td>95</td>\n      <td>True</td>\n    </tr>\n  </tbody>\n</table>\n</div>"
     },
     "execution_count": 13,
     "metadata": {},
     "output_type": "execute_result"
    }
   ],
   "source": [
    "games[\"HOME_WIN\"] = games[\"HOME_POINTS\"] > games[\"VISITOR_POINTS\"]\n",
    "\n",
    "games.head()"
   ],
   "metadata": {
    "collapsed": false,
    "ExecuteTime": {
     "start_time": "2023-04-26T11:10:30.140066Z",
     "end_time": "2023-04-26T11:10:30.147407Z"
    }
   }
  },
  {
   "cell_type": "markdown",
   "source": [
    "Podemos observar que 44% de los juegos el local gana"
   ],
   "metadata": {
    "collapsed": false
   }
  },
  {
   "cell_type": "code",
   "execution_count": 15,
   "outputs": [
    {
     "data": {
      "text/plain": "44.73684210526316"
     },
     "execution_count": 15,
     "metadata": {},
     "output_type": "execute_result"
    }
   ],
   "source": [
    "games[\"HOME_WIN\"].mean() * 100"
   ],
   "metadata": {
    "collapsed": false,
    "ExecuteTime": {
     "start_time": "2023-04-26T11:11:41.736442Z",
     "end_time": "2023-04-26T11:11:41.754102Z"
    }
   }
  },
  {
   "cell_type": "markdown",
   "source": [
    "Recuerda que siempre podemos transformar una columna en otra por reemplazo de valores a través del mapeo."
   ],
   "metadata": {
    "collapsed": false
   }
  },
  {
   "cell_type": "code",
   "execution_count": 17,
   "outputs": [
    {
     "data": {
      "text/plain": "              DATE   START              HOME_TEAM  HOME_POINTS   \n0  Tue Oct 27 2015   8:00p          Chicago Bulls           97  \\\n1  Tue Oct 27 2015   8:00p          Atlanta Hawks           94   \n2  Tue Oct 27 2015  10:30p  Golden State Warriors          111   \n3  Wed Oct 28 2015   7:00p          Orlando Magic           87   \n4  Wed Oct 28 2015   7:30p         Boston Celtics          112   \n\n           VISITOR_TEAM  VISITOR_POINTS  HOME_WIN   WINNER  \n0   Cleveland Cavaliers              95      True     HOME  \n1       Detroit Pistons             106     False  VISITOR  \n2  New Orleans Pelicans              95      True     HOME  \n3    Washington Wizards              88     False  VISITOR  \n4    Philadelphia 76ers              95      True     HOME  ",
      "text/html": "<div>\n<style scoped>\n    .dataframe tbody tr th:only-of-type {\n        vertical-align: middle;\n    }\n\n    .dataframe tbody tr th {\n        vertical-align: top;\n    }\n\n    .dataframe thead th {\n        text-align: right;\n    }\n</style>\n<table border=\"1\" class=\"dataframe\">\n  <thead>\n    <tr style=\"text-align: right;\">\n      <th></th>\n      <th>DATE</th>\n      <th>START</th>\n      <th>HOME_TEAM</th>\n      <th>HOME_POINTS</th>\n      <th>VISITOR_TEAM</th>\n      <th>VISITOR_POINTS</th>\n      <th>HOME_WIN</th>\n      <th>WINNER</th>\n    </tr>\n  </thead>\n  <tbody>\n    <tr>\n      <th>0</th>\n      <td>Tue Oct 27 2015</td>\n      <td>8:00p</td>\n      <td>Chicago Bulls</td>\n      <td>97</td>\n      <td>Cleveland Cavaliers</td>\n      <td>95</td>\n      <td>True</td>\n      <td>HOME</td>\n    </tr>\n    <tr>\n      <th>1</th>\n      <td>Tue Oct 27 2015</td>\n      <td>8:00p</td>\n      <td>Atlanta Hawks</td>\n      <td>94</td>\n      <td>Detroit Pistons</td>\n      <td>106</td>\n      <td>False</td>\n      <td>VISITOR</td>\n    </tr>\n    <tr>\n      <th>2</th>\n      <td>Tue Oct 27 2015</td>\n      <td>10:30p</td>\n      <td>Golden State Warriors</td>\n      <td>111</td>\n      <td>New Orleans Pelicans</td>\n      <td>95</td>\n      <td>True</td>\n      <td>HOME</td>\n    </tr>\n    <tr>\n      <th>3</th>\n      <td>Wed Oct 28 2015</td>\n      <td>7:00p</td>\n      <td>Orlando Magic</td>\n      <td>87</td>\n      <td>Washington Wizards</td>\n      <td>88</td>\n      <td>False</td>\n      <td>VISITOR</td>\n    </tr>\n    <tr>\n      <th>4</th>\n      <td>Wed Oct 28 2015</td>\n      <td>7:30p</td>\n      <td>Boston Celtics</td>\n      <td>112</td>\n      <td>Philadelphia 76ers</td>\n      <td>95</td>\n      <td>True</td>\n      <td>HOME</td>\n    </tr>\n  </tbody>\n</table>\n</div>"
     },
     "execution_count": 17,
     "metadata": {},
     "output_type": "execute_result"
    }
   ],
   "source": [
    "games[\"WINNER\"] = games[\"HOME_WIN\"].map({\n",
    "    True: \"HOME\",\n",
    "    False: \"VISITOR\"\n",
    "})\n",
    "\n",
    "games.head()"
   ],
   "metadata": {
    "collapsed": false,
    "ExecuteTime": {
     "start_time": "2023-04-26T11:13:57.535609Z",
     "end_time": "2023-04-26T11:13:57.571136Z"
    }
   }
  },
  {
   "cell_type": "markdown",
   "source": [
    "## 5. Generamos dos nuevas columnas de información que nos digan si el equipo local ganó su último partido y si el equipo visitante ganó su último partido"
   ],
   "metadata": {
    "collapsed": false
   }
  },
  {
   "cell_type": "code",
   "execution_count": 18,
   "outputs": [
    {
     "data": {
      "text/plain": "               DATE  START        HOME_TEAM  HOME_POINTS         VISITOR_TEAM   \n0   Tue Oct 27 2015  8:00p    Chicago Bulls           97  Cleveland Cavaliers  \\\n5   Wed Oct 28 2015  7:30p    Brooklyn Nets          100        Chicago Bulls   \n24  Fri Oct 30 2015  7:30p  Detroit Pistons           98        Chicago Bulls   \n\n    VISITOR_POINTS  HOME_WIN   WINNER  \n0               95      True     HOME  \n5              115     False  VISITOR  \n24              94      True     HOME  ",
      "text/html": "<div>\n<style scoped>\n    .dataframe tbody tr th:only-of-type {\n        vertical-align: middle;\n    }\n\n    .dataframe tbody tr th {\n        vertical-align: top;\n    }\n\n    .dataframe thead th {\n        text-align: right;\n    }\n</style>\n<table border=\"1\" class=\"dataframe\">\n  <thead>\n    <tr style=\"text-align: right;\">\n      <th></th>\n      <th>DATE</th>\n      <th>START</th>\n      <th>HOME_TEAM</th>\n      <th>HOME_POINTS</th>\n      <th>VISITOR_TEAM</th>\n      <th>VISITOR_POINTS</th>\n      <th>HOME_WIN</th>\n      <th>WINNER</th>\n    </tr>\n  </thead>\n  <tbody>\n    <tr>\n      <th>0</th>\n      <td>Tue Oct 27 2015</td>\n      <td>8:00p</td>\n      <td>Chicago Bulls</td>\n      <td>97</td>\n      <td>Cleveland Cavaliers</td>\n      <td>95</td>\n      <td>True</td>\n      <td>HOME</td>\n    </tr>\n    <tr>\n      <th>5</th>\n      <td>Wed Oct 28 2015</td>\n      <td>7:30p</td>\n      <td>Brooklyn Nets</td>\n      <td>100</td>\n      <td>Chicago Bulls</td>\n      <td>115</td>\n      <td>False</td>\n      <td>VISITOR</td>\n    </tr>\n    <tr>\n      <th>24</th>\n      <td>Fri Oct 30 2015</td>\n      <td>7:30p</td>\n      <td>Detroit Pistons</td>\n      <td>98</td>\n      <td>Chicago Bulls</td>\n      <td>94</td>\n      <td>True</td>\n      <td>HOME</td>\n    </tr>\n  </tbody>\n</table>\n</div>"
     },
     "execution_count": 18,
     "metadata": {},
     "output_type": "execute_result"
    }
   ],
   "source": [
    "games[ (games[\"HOME_TEAM\"] == \"Chicago Bulls\") | (games[\"VISITOR_TEAM\"] == \"Chicago Bulls\") ]"
   ],
   "metadata": {
    "collapsed": false,
    "ExecuteTime": {
     "start_time": "2023-04-26T11:22:57.112603Z",
     "end_time": "2023-04-26T11:22:57.124677Z"
    }
   }
  }
 ],
 "metadata": {
  "kernelspec": {
   "display_name": "Python 3",
   "language": "python",
   "name": "python3"
  },
  "language_info": {
   "codemirror_mode": {
    "name": "ipython",
    "version": 2
   },
   "file_extension": ".py",
   "mimetype": "text/x-python",
   "name": "python",
   "nbconvert_exporter": "python",
   "pygments_lexer": "ipython2",
   "version": "2.7.6"
  }
 },
 "nbformat": 4,
 "nbformat_minor": 0
}
