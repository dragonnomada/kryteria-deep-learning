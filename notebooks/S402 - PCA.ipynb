{
 "cells": [
  {
   "cell_type": "markdown",
   "source": [
    "# PCA - Principal Component Analysis\n",
    "\n",
    "El análisis de componentes principales (PCA), consiste en reducir la dimensionalidad de las variables que tienen relaciones estrechas o pueden llegar a guardar asociaciones ocultas que no son tan fáciles de detectar.\n",
    "\n",
    "> PCA busca reducir el número de características, para un conjunto de características relacionadas entre sí\n",
    "\n",
    "Cuando tenemos un conjunto de variables relacionadas que podrían interferir en el análisis unas con otras aumentando la dimensionalidad (número de variables de análisis), podemos optar por reducir la cantidad de variables a manipular, usando el algoritmo del PCA para detectar de todas esas variables, aquellas que tengan un mejor desempeño y partan como consecuencia de las otras. Por ejemplo, si tenemos diferentes esfuerzos calculados sobre nuestras muestras, los cuales guardan una estrecha similitud, podríamos construir un conjunto pequeño de variables que se infieran a partir de las otras.\n",
    "\n",
    "> El PCA busca construir nuevas variables (componentes) que guarden la mínima varianza o correlación entre ellas y permitan inferir las otras variables (características) a partir de estas nuevas variables\n",
    "\n",
    "Esto significa que una matriz de variables (por ejemplo 5 o 10 variables), que tienen un sentido común, se puede llevar a una matriz de variables más compacta (por ejemplo, 2 o 3).\n",
    "\n",
    "El fondo del PCA es analizar la varianza y correlación entre las variables (covarianza) para construir un modelo nuevo de datos, los cuales tienen menos variables que las originales, usando la varianza para determinar que algunas variables pueden ser inferidas a partir de las otras.\n",
    "\n",
    "> El PCA busca el hiperplano y = m1 * x1 + m2 * x2 + ... mn * xn\n",
    "> que se transforme en hiperplano y = h1 * z1 + h2 * z2 + ... + hd * zd\n",
    "\n",
    "Entonces pasamos de las variables `x1`, `x2`, `x3`, ..., `xn` a las variables `z1`, `z2`, ..., `zd`, dónde la `d` es menor a `n`."
   ],
   "metadata": {
    "collapsed": false
   }
  },
  {
   "cell_type": "code",
   "execution_count": 2,
   "metadata": {
    "collapsed": true,
    "ExecuteTime": {
     "start_time": "2023-04-27T13:53:24.491386Z",
     "end_time": "2023-04-27T13:53:28.878592Z"
    }
   },
   "outputs": [
    {
     "data": {
      "text/plain": "   ID_PROYECTO EMPRESA  PETICION  PETICION_1  PET_EMPRESA   \n0            1  México    8318.0        8318   8318México  \\\n1            2  México    9619.0        9619   9619México   \n2            3  México   10438.0       10438  10438México   \n3            4  México   10522.0       10522  10522México   \n4            5  México   10528.0       10528  10528México   \n\n                                              NOMBRE  CFP  EFICIENCIA   \n0  Modificación a la utileria de generación de pa...   12         NaN  \\\n1              Modificacion al programa Vbncarga.exe    2         NaN   \n2  Permisos para Cambios de puntos de Sembrado- P...   11         NaN   \n3             Corrección del informe TabuladoCredito   11         NaN   \n4  Corrección al Tabulado de Carteras y Hojas men...    4         NaN   \n\n          PDR  ESFUERZO_TOTAL_P  ...  PDR_S  PDR_M_1  PDR_M_2 PDR_L LEAD_TIME   \n0   33.708333             404.5  ...    NaN      NaN      NaN   NaN     914.0  \\\n1  147.500000             295.0  ...    NaN      NaN      NaN   NaN     609.0   \n2   51.375455            1019.0  ...    NaN      NaN      NaN   NaN     519.0   \n3   47.727273             525.0  ...    NaN      NaN      NaN   NaN     493.0   \n4   26.290000             213.0  ...    NaN      NaN      NaN   NaN     557.0   \n\n   F1_GESTIONDELA_DEMANDA F2_ELICITACION F3_CONTRUCCION  F4_FINAL  TAMANO  \n0                   825.0            8.0           42.0      35.0   10-29  \n1                   584.0            7.0           14.0       1.0     2-9  \n2                   461.0            2.0           37.0       1.0   10-29  \n3                   455.0            9.0           27.0       1.0   10-29  \n4                   520.0            5.0           30.0       0.0     2-9  \n\n[5 rows x 138 columns]",
      "text/html": "<div>\n<style scoped>\n    .dataframe tbody tr th:only-of-type {\n        vertical-align: middle;\n    }\n\n    .dataframe tbody tr th {\n        vertical-align: top;\n    }\n\n    .dataframe thead th {\n        text-align: right;\n    }\n</style>\n<table border=\"1\" class=\"dataframe\">\n  <thead>\n    <tr style=\"text-align: right;\">\n      <th></th>\n      <th>ID_PROYECTO</th>\n      <th>EMPRESA</th>\n      <th>PETICION</th>\n      <th>PETICION_1</th>\n      <th>PET_EMPRESA</th>\n      <th>NOMBRE</th>\n      <th>CFP</th>\n      <th>EFICIENCIA</th>\n      <th>PDR</th>\n      <th>ESFUERZO_TOTAL_P</th>\n      <th>...</th>\n      <th>PDR_S</th>\n      <th>PDR_M_1</th>\n      <th>PDR_M_2</th>\n      <th>PDR_L</th>\n      <th>LEAD_TIME</th>\n      <th>F1_GESTIONDELA_DEMANDA</th>\n      <th>F2_ELICITACION</th>\n      <th>F3_CONTRUCCION</th>\n      <th>F4_FINAL</th>\n      <th>TAMANO</th>\n    </tr>\n  </thead>\n  <tbody>\n    <tr>\n      <th>0</th>\n      <td>1</td>\n      <td>México</td>\n      <td>8318.0</td>\n      <td>8318</td>\n      <td>8318México</td>\n      <td>Modificación a la utileria de generación de pa...</td>\n      <td>12</td>\n      <td>NaN</td>\n      <td>33.708333</td>\n      <td>404.5</td>\n      <td>...</td>\n      <td>NaN</td>\n      <td>NaN</td>\n      <td>NaN</td>\n      <td>NaN</td>\n      <td>914.0</td>\n      <td>825.0</td>\n      <td>8.0</td>\n      <td>42.0</td>\n      <td>35.0</td>\n      <td>10-29</td>\n    </tr>\n    <tr>\n      <th>1</th>\n      <td>2</td>\n      <td>México</td>\n      <td>9619.0</td>\n      <td>9619</td>\n      <td>9619México</td>\n      <td>Modificacion al programa Vbncarga.exe</td>\n      <td>2</td>\n      <td>NaN</td>\n      <td>147.500000</td>\n      <td>295.0</td>\n      <td>...</td>\n      <td>NaN</td>\n      <td>NaN</td>\n      <td>NaN</td>\n      <td>NaN</td>\n      <td>609.0</td>\n      <td>584.0</td>\n      <td>7.0</td>\n      <td>14.0</td>\n      <td>1.0</td>\n      <td>2-9</td>\n    </tr>\n    <tr>\n      <th>2</th>\n      <td>3</td>\n      <td>México</td>\n      <td>10438.0</td>\n      <td>10438</td>\n      <td>10438México</td>\n      <td>Permisos para Cambios de puntos de Sembrado- P...</td>\n      <td>11</td>\n      <td>NaN</td>\n      <td>51.375455</td>\n      <td>1019.0</td>\n      <td>...</td>\n      <td>NaN</td>\n      <td>NaN</td>\n      <td>NaN</td>\n      <td>NaN</td>\n      <td>519.0</td>\n      <td>461.0</td>\n      <td>2.0</td>\n      <td>37.0</td>\n      <td>1.0</td>\n      <td>10-29</td>\n    </tr>\n    <tr>\n      <th>3</th>\n      <td>4</td>\n      <td>México</td>\n      <td>10522.0</td>\n      <td>10522</td>\n      <td>10522México</td>\n      <td>Corrección del informe TabuladoCredito</td>\n      <td>11</td>\n      <td>NaN</td>\n      <td>47.727273</td>\n      <td>525.0</td>\n      <td>...</td>\n      <td>NaN</td>\n      <td>NaN</td>\n      <td>NaN</td>\n      <td>NaN</td>\n      <td>493.0</td>\n      <td>455.0</td>\n      <td>9.0</td>\n      <td>27.0</td>\n      <td>1.0</td>\n      <td>10-29</td>\n    </tr>\n    <tr>\n      <th>4</th>\n      <td>5</td>\n      <td>México</td>\n      <td>10528.0</td>\n      <td>10528</td>\n      <td>10528México</td>\n      <td>Corrección al Tabulado de Carteras y Hojas men...</td>\n      <td>4</td>\n      <td>NaN</td>\n      <td>26.290000</td>\n      <td>213.0</td>\n      <td>...</td>\n      <td>NaN</td>\n      <td>NaN</td>\n      <td>NaN</td>\n      <td>NaN</td>\n      <td>557.0</td>\n      <td>520.0</td>\n      <td>5.0</td>\n      <td>30.0</td>\n      <td>0.0</td>\n      <td>2-9</td>\n    </tr>\n  </tbody>\n</table>\n<p>5 rows × 138 columns</p>\n</div>"
     },
     "execution_count": 2,
     "metadata": {},
     "output_type": "execute_result"
    }
   ],
   "source": [
    "import numpy as np\n",
    "import pandas as pd\n",
    "\n",
    "proyectos = pd.read_excel(\"D:\\\\data\\\\ProyectosFinalizados.xlsx\", sheet_name=\"base\")\n",
    "\n",
    "def limpiar_columna(columna):\n",
    "    # 1. Reemplazar caracteres especiales\n",
    "    columna = columna.replace(\" \", \"_\") \\\n",
    "        .replace(\"á\", \"a\") \\\n",
    "        .replace(\"é\", \"e\") \\\n",
    "        .replace(\"í\", \"i\") \\\n",
    "        .replace(\"ó\", \"o\") \\\n",
    "        .replace(\"ú\", \"u\") \\\n",
    "        .replace(\"ñ\", \"n\") \\\n",
    "        .replace(\"+\", \"_\") \\\n",
    "        .replace(\".\", \"_\") \\\n",
    "        .replace(\"(\", \"_\") \\\n",
    "        .replace(\")\", \"\")\n",
    "    import re\n",
    "    # 2. Poner un guion bajo entre cambio de letras de minúscula a mayúsculas\n",
    "    columna = re.sub(\"([a-z])([A-Z])\", \"\\\\1_\\\\2\", columna)\n",
    "    # 3. Poner un guion bajo entre ID y letra\n",
    "    columna = re.sub(\"ID([A-Za-z])\", \"ID_\\\\1\", columna)\n",
    "    # 4. Poner un guion bajo entre número y letra\n",
    "    columna = re.sub(\"([0-9])([A-Za-z])\", \"\\\\1_\\\\2\", columna)\n",
    "    # 4. Poner un guion bajo entre letra y número\n",
    "    columna = re.sub(\"([A-Za-z])([0-9])\", \"\\\\1_\\\\2\", columna)\n",
    "    # 5. Quitar un guion bajo entre letra y número\n",
    "    columna = re.sub(\"([A-Za-z])_([0-9])\", \"\\\\1\\\\2\", columna)\n",
    "    # 6. Poner un guion bajo entre letra y número final\n",
    "    columna = re.sub(\"([A-Za-z])([0-9])$\", \"\\\\1_\\\\2\", columna)\n",
    "    # 7. Convertir a mayúsculas\n",
    "    columna = columna.upper()\n",
    "    return columna\n",
    "\n",
    "proyectos.columns = map(limpiar_columna, proyectos.columns.values)\n",
    "\n",
    "proyectos.head()"
   ]
  },
  {
   "cell_type": "markdown",
   "source": [
    "## 1. Construir nuestra matriz de características a reducir"
   ],
   "metadata": {
    "collapsed": false
   }
  },
  {
   "cell_type": "markdown",
   "source": [],
   "metadata": {
    "collapsed": false
   }
  },
  {
   "cell_type": "code",
   "execution_count": 29,
   "outputs": [
    {
     "data": {
      "text/plain": "array([[ 404.5 ,  486.04,    0.  ,  404.5 ],\n       [ 295.  ,  260.8 ,    0.  ,  295.  ],\n       [1019.  ,  698.49,    0.  ,  565.13],\n       [ 525.  ,  495.22,    0.  ,  525.  ],\n       [ 213.  ,  105.16,    0.  ,  105.16]])"
     },
     "execution_count": 29,
     "metadata": {},
     "output_type": "execute_result"
    }
   ],
   "source": [
    "X = proyectos[ [\"ESFUERZO_TOTAL_P\", \"ESFUERZO_TOTAL_R\", \"ESFUERZO_TOTAL_E\", \"ESFUERZO_TOTAL_V\"] ].fillna(0).values\n",
    "\n",
    "X[:5]"
   ],
   "metadata": {
    "collapsed": false,
    "ExecuteTime": {
     "start_time": "2023-04-27T14:11:52.635118Z",
     "end_time": "2023-04-27T14:11:52.657850Z"
    }
   }
  },
  {
   "cell_type": "markdown",
   "source": [
    "## 2. Construir un PCA con el número de componentes reducidos\n",
    "\n",
    "Y ajustamos el PCA a los datos, para esta manera poder transformar cualquier matriz con el mismo número de características lo podemos reducir a solo los componentes solicitados."
   ],
   "metadata": {
    "collapsed": false
   }
  },
  {
   "cell_type": "code",
   "execution_count": 35,
   "outputs": [
    {
     "data": {
      "text/plain": "array([0.81937727, 0.10394137])"
     },
     "execution_count": 35,
     "metadata": {},
     "output_type": "execute_result"
    }
   ],
   "source": [
    "from sklearn.decomposition import PCA\n",
    "\n",
    "pca = PCA(n_components=2)\n",
    "\n",
    "pca.fit(X)\n",
    "\n",
    "pca.explained_variance_ratio_"
   ],
   "metadata": {
    "collapsed": false,
    "ExecuteTime": {
     "start_time": "2023-04-27T14:21:51.883319Z",
     "end_time": "2023-04-27T14:21:51.911068Z"
    }
   }
  },
  {
   "cell_type": "markdown",
   "source": [
    "La razón de varianza indica que la última variable solo aporta una varianza casi 0, es decir, ya no aporta información, cuando los últimos componentes sean cercanos a cero, ya no vale la pena seguir incrementando el número de componentes.\n",
    "\n",
    "Para espacios entre 5 y 100 variables, lo común es usar entre 2 y 10 componentes verificando que la razón de varianza decaiga rápidamente a niveles cero al final."
   ],
   "metadata": {
    "collapsed": false
   }
  },
  {
   "cell_type": "code",
   "execution_count": 23,
   "outputs": [
    {
     "data": {
      "text/plain": "array([169341.93131649,  60313.81108336])"
     },
     "execution_count": 23,
     "metadata": {},
     "output_type": "execute_result"
    }
   ],
   "source": [
    "# Representa los autovalores que encontró para construir la matriz de proyección, ya que al final el PCA hace una proyección usando estos valores.\n",
    "pca.singular_values_"
   ],
   "metadata": {
    "collapsed": false,
    "ExecuteTime": {
     "start_time": "2023-04-27T14:06:57.160814Z",
     "end_time": "2023-04-27T14:06:57.176476Z"
    }
   }
  },
  {
   "cell_type": "code",
   "execution_count": 30,
   "outputs": [
    {
     "data": {
      "text/plain": "array([[ 404.5 ,  486.04,    0.  ,  404.5 ],\n       [ 295.  ,  260.8 ,    0.  ,  295.  ],\n       [1019.  ,  698.49,    0.  ,  565.13],\n       [ 525.  ,  495.22,    0.  ,  525.  ],\n       [ 213.  ,  105.16,    0.  ,  105.16]])"
     },
     "execution_count": 30,
     "metadata": {},
     "output_type": "execute_result"
    }
   ],
   "source": [
    "X[:5]"
   ],
   "metadata": {
    "collapsed": false,
    "ExecuteTime": {
     "start_time": "2023-04-27T14:12:46.664527Z",
     "end_time": "2023-04-27T14:12:46.688288Z"
    }
   }
  },
  {
   "cell_type": "code",
   "execution_count": 36,
   "outputs": [
    {
     "data": {
      "text/plain": "array([[-1231.3557328 ,    74.86302181],\n       [-1493.6493469 ,   117.60901475],\n       [ -667.33899848,   -26.98857794],\n       [-1125.08379481,   -38.83559886],\n       [-1704.93718224,   255.83342165]])"
     },
     "execution_count": 36,
     "metadata": {},
     "output_type": "execute_result"
    }
   ],
   "source": [
    "X_transform = pca.transform(X)\n",
    "\n",
    "X_transform[:5]"
   ],
   "metadata": {
    "collapsed": false,
    "ExecuteTime": {
     "start_time": "2023-04-27T14:26:00.075985Z",
     "end_time": "2023-04-27T14:26:00.104102Z"
    }
   }
  },
  {
   "cell_type": "code",
   "execution_count": 27,
   "outputs": [
    {
     "data": {
      "text/plain": "((2955, 4), (2955, 2))"
     },
     "execution_count": 27,
     "metadata": {},
     "output_type": "execute_result"
    }
   ],
   "source": [
    "X.shape, X_transform.shape"
   ],
   "metadata": {
    "collapsed": false,
    "ExecuteTime": {
     "start_time": "2023-04-27T14:09:14.908184Z",
     "end_time": "2023-04-27T14:09:14.937561Z"
    }
   }
  },
  {
   "cell_type": "markdown",
   "source": [
    "Con el PCA podemos llevar cualquier matriz de nx4 a nx2"
   ],
   "metadata": {
    "collapsed": false
   }
  },
  {
   "cell_type": "code",
   "execution_count": 28,
   "outputs": [
    {
     "data": {
      "text/plain": "array([[-1737.93682894,   240.87927862],\n       [-1258.72671248,    61.58959511],\n       [-1447.70934863,   123.45902014]])"
     },
     "execution_count": 28,
     "metadata": {},
     "output_type": "execute_result"
    }
   ],
   "source": [
    "pca.transform([\n",
    "    [123, 125, 0, 128],\n",
    "    [400, 450, 15, 410],\n",
    "    [320, 300, 0, 300],\n",
    "])"
   ],
   "metadata": {
    "collapsed": false,
    "ExecuteTime": {
     "start_time": "2023-04-27T14:10:58.164935Z",
     "end_time": "2023-04-27T14:10:58.173310Z"
    }
   }
  },
  {
   "cell_type": "markdown",
   "source": [
    "## 3. Un algoritmo toma la matriz X para aprender a clasificar el vector y\n",
    "\n",
    "Por lo que podemos comparar que también hace el entrenamiento (clasificación), con la matriz original versus la matriz reducida.\n",
    "\n",
    "Si el entrenamiento tiene el mismo desempeño, significará que nuestra matriz reducida es completamente equivalente. Incluso se puede dar el caso que el desempeño del algoritmo mejore bastante."
   ],
   "metadata": {
    "collapsed": false
   }
  },
  {
   "cell_type": "code",
   "execution_count": 47,
   "outputs": [
    {
     "data": {
      "text/plain": "     ESFUERZO_TOTAL_P  ESFUERZO_TOTAL_R  ESFUERZO_TOTAL_E  ESFUERZO_TOTAL_V   \n889             638.5            638.18             217.0            581.10  \\\n890            8046.0           5898.31            2428.0           5865.29   \n893            1745.0           1616.91             191.0           1593.76   \n899            1875.5           2030.73             503.0           1929.85   \n911             451.5            418.16             239.0            418.16   \n\n     EFICIENCIA  EFICIENCIA_BUENA  \n889    0.650492              True  \n890    0.801831              True  \n893    0.349970             False  \n899    0.641147              True  \n911    1.083333              True  ",
      "text/html": "<div>\n<style scoped>\n    .dataframe tbody tr th:only-of-type {\n        vertical-align: middle;\n    }\n\n    .dataframe tbody tr th {\n        vertical-align: top;\n    }\n\n    .dataframe thead th {\n        text-align: right;\n    }\n</style>\n<table border=\"1\" class=\"dataframe\">\n  <thead>\n    <tr style=\"text-align: right;\">\n      <th></th>\n      <th>ESFUERZO_TOTAL_P</th>\n      <th>ESFUERZO_TOTAL_R</th>\n      <th>ESFUERZO_TOTAL_E</th>\n      <th>ESFUERZO_TOTAL_V</th>\n      <th>EFICIENCIA</th>\n      <th>EFICIENCIA_BUENA</th>\n    </tr>\n  </thead>\n  <tbody>\n    <tr>\n      <th>889</th>\n      <td>638.5</td>\n      <td>638.18</td>\n      <td>217.0</td>\n      <td>581.10</td>\n      <td>0.650492</td>\n      <td>True</td>\n    </tr>\n    <tr>\n      <th>890</th>\n      <td>8046.0</td>\n      <td>5898.31</td>\n      <td>2428.0</td>\n      <td>5865.29</td>\n      <td>0.801831</td>\n      <td>True</td>\n    </tr>\n    <tr>\n      <th>893</th>\n      <td>1745.0</td>\n      <td>1616.91</td>\n      <td>191.0</td>\n      <td>1593.76</td>\n      <td>0.349970</td>\n      <td>False</td>\n    </tr>\n    <tr>\n      <th>899</th>\n      <td>1875.5</td>\n      <td>2030.73</td>\n      <td>503.0</td>\n      <td>1929.85</td>\n      <td>0.641147</td>\n      <td>True</td>\n    </tr>\n    <tr>\n      <th>911</th>\n      <td>451.5</td>\n      <td>418.16</td>\n      <td>239.0</td>\n      <td>418.16</td>\n      <td>1.083333</td>\n      <td>True</td>\n    </tr>\n  </tbody>\n</table>\n</div>"
     },
     "execution_count": 47,
     "metadata": {},
     "output_type": "execute_result"
    }
   ],
   "source": [
    "dataset = proyectos[ [\"ESFUERZO_TOTAL_P\", \"ESFUERZO_TOTAL_R\", \"ESFUERZO_TOTAL_E\", \"ESFUERZO_TOTAL_V\", \"EFICIENCIA\"] ]\\\n",
    "\n",
    "dataset = dataset.fillna(0)\n",
    "\n",
    "dataset = dataset[ (dataset[\"EFICIENCIA\"] > 0) ]\n",
    "dataset = dataset[ (dataset[\"ESFUERZO_TOTAL_E\"] > 0) ]\n",
    "\n",
    "import numpy as np\n",
    "\n",
    "dataset[\"EFICIENCIA_BUENA\"] = dataset[\"EFICIENCIA\"] > np.quantile(dataset[\"EFICIENCIA\"], 0.4)\n",
    "\n",
    "dataset.head()"
   ],
   "metadata": {
    "collapsed": false,
    "ExecuteTime": {
     "start_time": "2023-04-27T14:35:11.191060Z",
     "end_time": "2023-04-27T14:35:11.220893Z"
    }
   }
  },
  {
   "cell_type": "code",
   "execution_count": 48,
   "outputs": [
    {
     "data": {
      "text/plain": "array([[ 638.5 ,  638.18,  217.  ,  581.1 ],\n       [8046.  , 5898.31, 2428.  , 5865.29],\n       [1745.  , 1616.91,  191.  , 1593.76],\n       [1875.5 , 2030.73,  503.  , 1929.85],\n       [ 451.5 ,  418.16,  239.  ,  418.16]])"
     },
     "execution_count": 48,
     "metadata": {},
     "output_type": "execute_result"
    }
   ],
   "source": [
    "X = dataset[ [\"ESFUERZO_TOTAL_P\", \"ESFUERZO_TOTAL_R\", \"ESFUERZO_TOTAL_E\", \"ESFUERZO_TOTAL_V\"] ].values\n",
    "\n",
    "X[:5]"
   ],
   "metadata": {
    "collapsed": false,
    "ExecuteTime": {
     "start_time": "2023-04-27T14:36:26.390976Z",
     "end_time": "2023-04-27T14:36:26.412625Z"
    }
   }
  },
  {
   "cell_type": "code",
   "execution_count": 49,
   "outputs": [
    {
     "data": {
      "text/plain": "array([1, 1, 0, 1, 1])"
     },
     "execution_count": 49,
     "metadata": {},
     "output_type": "execute_result"
    }
   ],
   "source": [
    "y = dataset[\"EFICIENCIA_BUENA\"].values.astype(int)\n",
    "\n",
    "y[:5]"
   ],
   "metadata": {
    "collapsed": false,
    "ExecuteTime": {
     "start_time": "2023-04-27T14:37:18.713981Z",
     "end_time": "2023-04-27T14:37:18.729877Z"
    }
   }
  },
  {
   "cell_type": "code",
   "execution_count": 50,
   "outputs": [
    {
     "data": {
      "text/plain": "0.6783439277350285"
     },
     "execution_count": 50,
     "metadata": {},
     "output_type": "execute_result"
    }
   ],
   "source": [
    "from sklearn.tree import DecisionTreeClassifier\n",
    "from sklearn.model_selection import cross_val_score\n",
    "\n",
    "cross_val_score(DecisionTreeClassifier(), X, y, scoring=\"accuracy\").mean()"
   ],
   "metadata": {
    "collapsed": false,
    "ExecuteTime": {
     "start_time": "2023-04-27T14:38:33.210313Z",
     "end_time": "2023-04-27T14:38:33.429421Z"
    }
   }
  },
  {
   "cell_type": "markdown",
   "source": [
    "La clasificación anterior se logró usando 4 variables, es decir, el entrenamiento (el árbol de decisión) usó la información de 4 variables para determinar la clase (si la eficiencia será buena)."
   ],
   "metadata": {
    "collapsed": false
   }
  },
  {
   "cell_type": "code",
   "execution_count": 51,
   "outputs": [
    {
     "data": {
      "text/plain": "array([[-1328.98620327,   -29.39179435],\n       [ 8633.87754127,  3541.55181532],\n       [  292.03736608,   674.23913587],\n       [  804.35224532,   868.20861715],\n       [-1638.6764492 ,  -125.34561161]])"
     },
     "execution_count": 51,
     "metadata": {},
     "output_type": "execute_result"
    }
   ],
   "source": [
    "from sklearn.decomposition import PCA\n",
    "\n",
    "pca = PCA(n_components=2)\n",
    "\n",
    "pca.fit(X)\n",
    "\n",
    "X_transform = pca.transform(X)\n",
    "\n",
    "X_transform[:5]"
   ],
   "metadata": {
    "collapsed": false,
    "ExecuteTime": {
     "start_time": "2023-04-27T14:41:16.856875Z",
     "end_time": "2023-04-27T14:41:16.873510Z"
    }
   }
  },
  {
   "cell_type": "code",
   "execution_count": 52,
   "outputs": [
    {
     "data": {
      "text/plain": "0.5588156574105051"
     },
     "execution_count": 52,
     "metadata": {},
     "output_type": "execute_result"
    }
   ],
   "source": [
    "from sklearn.tree import DecisionTreeClassifier\n",
    "from sklearn.model_selection import cross_val_score\n",
    "\n",
    "cross_val_score(DecisionTreeClassifier(), X_transform, y, scoring=\"accuracy\").mean()"
   ],
   "metadata": {
    "collapsed": false,
    "ExecuteTime": {
     "start_time": "2023-04-27T14:41:34.522980Z",
     "end_time": "2023-04-27T14:41:34.560199Z"
    }
   }
  },
  {
   "cell_type": "markdown",
   "source": [
    "Cuando reducimos las 4 características a 2 componentes, el árbol de decisión bajó considerablemente su rendimiento de 68% a 56%"
   ],
   "metadata": {
    "collapsed": false
   }
  },
  {
   "cell_type": "code",
   "execution_count": 54,
   "outputs": [
    {
     "data": {
      "text/plain": "array([[-1328.98620327,   -29.39179435,  -238.95848307],\n       [ 8633.87754127,  3541.55181532,   887.0973496 ],\n       [  292.03736608,   674.23913587,  -477.40307876],\n       [  804.35224532,   868.20861715,  -307.00695758],\n       [-1638.6764492 ,  -125.34561161,  -166.42592618]])"
     },
     "execution_count": 54,
     "metadata": {},
     "output_type": "execute_result"
    }
   ],
   "source": [
    "from sklearn.decomposition import PCA\n",
    "\n",
    "pca = PCA(n_components=3)\n",
    "\n",
    "pca.fit(X)\n",
    "\n",
    "X_transform_2 = pca.transform(X)\n",
    "\n",
    "X_transform_2[:5]"
   ],
   "metadata": {
    "collapsed": false,
    "ExecuteTime": {
     "start_time": "2023-04-27T14:42:20.642651Z",
     "end_time": "2023-04-27T14:42:20.659108Z"
    }
   }
  },
  {
   "cell_type": "code",
   "execution_count": 55,
   "outputs": [
    {
     "data": {
      "text/plain": "0.6930812980930077"
     },
     "execution_count": 55,
     "metadata": {},
     "output_type": "execute_result"
    }
   ],
   "source": [
    "from sklearn.tree import DecisionTreeClassifier\n",
    "from sklearn.model_selection import cross_val_score\n",
    "\n",
    "cross_val_score(DecisionTreeClassifier(), X_transform_2, y, scoring=\"accuracy\").mean()"
   ],
   "metadata": {
    "collapsed": false,
    "ExecuteTime": {
     "start_time": "2023-04-27T14:42:22.568234Z",
     "end_time": "2023-04-27T14:42:22.623614Z"
    }
   }
  },
  {
   "cell_type": "markdown",
   "source": [
    "Pero si consideramos 3 componentes, aunque es casi el mismo número de variables, para el algoritmo hay un mayor rendimiento, ya que aunque son 3 variables nuevas, estas tienen la mínima correlación entre sí, por lo que podemos decir, que son variables superiores en el sentido de discriminación que las originales, es decir, el árbol de decisión toma mejores decisiones con estas 3 variables que con las originales. Llegando a casi el 70% de predicción."
   ],
   "metadata": {
    "collapsed": false
   }
  },
  {
   "cell_type": "code",
   "execution_count": 56,
   "outputs": [
    {
     "data": {
      "text/plain": "array([[-1328.98620327,   -29.39179435,  -238.95848307,    59.81697775],\n       [ 8633.87754127,  3541.55181532,   887.0973496 , -1379.945096  ],\n       [  292.03736608,   674.23913587,  -477.40307876,  -109.71536412],\n       [  804.35224532,   868.20861715,  -307.00695758,   153.82248369],\n       [-1638.6764492 ,  -125.34561161,  -166.42592618,    65.74055103]])"
     },
     "execution_count": 56,
     "metadata": {},
     "output_type": "execute_result"
    }
   ],
   "source": [
    "from sklearn.decomposition import PCA\n",
    "\n",
    "pca = PCA(n_components=4)\n",
    "\n",
    "pca.fit(X)\n",
    "\n",
    "X_transform_3 = pca.transform(X)\n",
    "\n",
    "X_transform_3[:5]"
   ],
   "metadata": {
    "collapsed": false,
    "ExecuteTime": {
     "start_time": "2023-04-27T14:46:33.887341Z",
     "end_time": "2023-04-27T14:46:33.918476Z"
    }
   }
  },
  {
   "cell_type": "code",
   "execution_count": 57,
   "outputs": [
    {
     "data": {
      "text/plain": "0.6848946135831382"
     },
     "execution_count": 57,
     "metadata": {},
     "output_type": "execute_result"
    }
   ],
   "source": [
    "from sklearn.tree import DecisionTreeClassifier\n",
    "from sklearn.model_selection import cross_val_score\n",
    "\n",
    "cross_val_score(DecisionTreeClassifier(), X_transform_2, y, scoring=\"accuracy\").mean()"
   ],
   "metadata": {
    "collapsed": false,
    "ExecuteTime": {
     "start_time": "2023-04-27T14:46:54.536052Z",
     "end_time": "2023-04-27T14:46:54.589714Z"
    }
   }
  },
  {
   "cell_type": "markdown",
   "source": [
    "Es muy probable que al convertir las variables a componentes, es decir, pasar de un espacio a otro, mejoren los algoritmos de clasificación o demás, porque el nuevo espacio es adimensional, y se basa únicamente en los valores principales (autovalores) que son independientes de las unidades en las que funciona cada variable."
   ],
   "metadata": {
    "collapsed": false
   }
  },
  {
   "cell_type": "markdown",
   "source": [
    "## EJERCICIO"
   ],
   "metadata": {
    "collapsed": false
   }
  },
  {
   "cell_type": "markdown",
   "source": [
    "Construir una matriz `X` con todas las variables de esfuerzo (ESFUERZO_TOTAL_P, ESFUERZO_TOTAL_R, ESFUERZO_TOTAL_E, ESFUERZO_TOTAL_V, ESF_PLANEACION_P, ESF_PLANEACION_R, ESF_PLANEACION_V, ESF_ELICITACION_P, ESF_ELICITACION_R, ESF_ELICITACION_E, ESF_ELICITACION_V, ESF_DOCUMENTACION_P, ESF_DOCUMENTACION_R, ESF_DOCUMENTACION_E, ESF_DOCUMENTACION_V, ESF_ARQUITECTURA_P, ESF_ARQUITECTURA_R, ESF_ARQUITECTURA_E, ESF_ARQUITECTURA_V, ESF_CODIFICACION_P, ESF_CODIFICACION_R, ESF_CODIFICACION_E, ESF_CODIFICACION_V, ESF_PRUEBAS_P, ESF_PRUEBAS_R, ESF_PRUEBAS_E, ESF_PRUEBAS_V,ESF_IMPLEMENTACION_P, ESF_IMPLEMENTACION_R, ESF_IMPLEMENTACION_V)\n",
    "\n",
    "Para predecir la columna `PDR_BUENO`."
   ],
   "metadata": {
    "collapsed": false
   }
  }
 ],
 "metadata": {
  "kernelspec": {
   "display_name": "Python 3",
   "language": "python",
   "name": "python3"
  },
  "language_info": {
   "codemirror_mode": {
    "name": "ipython",
    "version": 2
   },
   "file_extension": ".py",
   "mimetype": "text/x-python",
   "name": "python",
   "nbconvert_exporter": "python",
   "pygments_lexer": "ipython2",
   "version": "2.7.6"
  }
 },
 "nbformat": 4,
 "nbformat_minor": 0
}
