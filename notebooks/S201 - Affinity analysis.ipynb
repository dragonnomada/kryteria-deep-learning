{
 "cells": [
  {
   "cell_type": "markdown",
   "source": [
    "# S201 - Análisis de Afinidad\n",
    "\n",
    "Documentación:\n",
    "\n",
    "- [https://numpy.org/doc/stable/reference/generated/numpy.zeros.html#numpy.zeros](https://numpy.org/doc/stable/reference/generated/numpy.zeros.html#numpy.zeros)\n",
    "- [https://numpy.org/doc/stable/reference/random/index.html](https://numpy.org/doc/stable/reference/random/index.html)\n",
    "\n",
    "Un análisis de afinidad determinará cuándo eventos similares ocurren bajo una probabilidad. A esa probabilidad le llamaremos la confianza y el número de repeticiones que sustenten esa probabilidad será llamada el soporte (el respaldo).\n",
    "\n",
    "Algunas aplicaciones de este tipo de análisis son:\n",
    "\n",
    "* Detección de fraude\n",
    "* Segmentación de clientes\n",
    "* Optimización de software\n",
    "* Recomendaciones de productos"
   ],
   "metadata": {
    "collapsed": false
   }
  },
  {
   "cell_type": "markdown",
   "source": [
    "## Construir un `dataset` para simular la compra de productos bajo ciertas probabilidades"
   ],
   "metadata": {
    "collapsed": false
   }
  },
  {
   "cell_type": "code",
   "execution_count": null,
   "outputs": [],
   "source": [
    "import random\n",
    "\n",
    "# Diseñar un dataset de ejemplo\n",
    "\n",
    "import numpy as np\n",
    "\n",
    "# Muestra: [LECHE, HUEVO, PAN, FRUTA, DULCE]\n",
    "#          1 - compró, 0 - no compró\n",
    "# Ejemplo: [1, 0, 0, 1, 1]\n",
    "#          Compró: LECHE, FRUTA, DULCE\n",
    "#          No compró: HUEVO, PAN\n",
    "\n",
    "dataset = np.array(\n",
    "    [\n",
    "        [1, 0, 0, 1, 1], # 1\n",
    "        [0, 1, 1, 1, 0], # 2\n",
    "        [0, 0, 0, 0, 1], # 3\n",
    "        [1, 0, 0, 1, 0], # 4\n",
    "        [1, 1, 0, 0, 0], # 5\n",
    "    ]\n",
    ")"
   ],
   "metadata": {
    "collapsed": false
   }
  },
  {
   "cell_type": "markdown",
   "source": [
    "Generar un dataset con 100 muestras aleatorias con probabilidades de compra"
   ],
   "metadata": {
    "collapsed": false
   }
  },
  {
   "cell_type": "code",
   "execution_count": 7,
   "outputs": [
    {
     "data": {
      "text/plain": "array([[0, 0, 0, 0, 0],\n       [0, 0, 0, 0, 0],\n       [0, 0, 0, 0, 0],\n       [0, 0, 0, 0, 0],\n       [0, 0, 0, 0, 0],\n       [0, 0, 0, 0, 0],\n       [0, 0, 0, 0, 0],\n       [0, 0, 0, 0, 0],\n       [0, 0, 0, 0, 0],\n       [0, 0, 0, 0, 0],\n       [0, 0, 0, 0, 0],\n       [0, 0, 0, 0, 0],\n       [0, 0, 0, 0, 0],\n       [0, 0, 0, 0, 0],\n       [0, 0, 0, 0, 0],\n       [0, 0, 0, 0, 0],\n       [0, 0, 0, 0, 0],\n       [0, 0, 0, 0, 0],\n       [0, 0, 0, 0, 0],\n       [0, 0, 0, 0, 0],\n       [0, 0, 0, 0, 0],\n       [0, 0, 0, 0, 0],\n       [0, 0, 0, 0, 0],\n       [0, 0, 0, 0, 0],\n       [0, 0, 0, 0, 0],\n       [0, 0, 0, 0, 0],\n       [0, 0, 0, 0, 0],\n       [0, 0, 0, 0, 0],\n       [0, 0, 0, 0, 0],\n       [0, 0, 0, 0, 0],\n       [0, 0, 0, 0, 0],\n       [0, 0, 0, 0, 0],\n       [0, 0, 0, 0, 0],\n       [0, 0, 0, 0, 0],\n       [0, 0, 0, 0, 0],\n       [0, 0, 0, 0, 0],\n       [0, 0, 0, 0, 0],\n       [0, 0, 0, 0, 0],\n       [0, 0, 0, 0, 0],\n       [0, 0, 0, 0, 0],\n       [0, 0, 0, 0, 0],\n       [0, 0, 0, 0, 0],\n       [0, 0, 0, 0, 0],\n       [0, 0, 0, 0, 0],\n       [0, 0, 0, 0, 0],\n       [0, 0, 0, 0, 0],\n       [0, 0, 0, 0, 0],\n       [0, 0, 0, 0, 0],\n       [0, 0, 0, 0, 0],\n       [0, 0, 0, 0, 0],\n       [0, 0, 0, 0, 0],\n       [0, 0, 0, 0, 0],\n       [0, 0, 0, 0, 0],\n       [0, 0, 0, 0, 0],\n       [0, 0, 0, 0, 0],\n       [0, 0, 0, 0, 0],\n       [0, 0, 0, 0, 0],\n       [0, 0, 0, 0, 0],\n       [0, 0, 0, 0, 0],\n       [0, 0, 0, 0, 0],\n       [0, 0, 0, 0, 0],\n       [0, 0, 0, 0, 0],\n       [0, 0, 0, 0, 0],\n       [0, 0, 0, 0, 0],\n       [0, 0, 0, 0, 0],\n       [0, 0, 0, 0, 0],\n       [0, 0, 0, 0, 0],\n       [0, 0, 0, 0, 0],\n       [0, 0, 0, 0, 0],\n       [0, 0, 0, 0, 0],\n       [0, 0, 0, 0, 0],\n       [0, 0, 0, 0, 0],\n       [0, 0, 0, 0, 0],\n       [0, 0, 0, 0, 0],\n       [0, 0, 0, 0, 0],\n       [0, 0, 0, 0, 0],\n       [0, 0, 0, 0, 0],\n       [0, 0, 0, 0, 0],\n       [0, 0, 0, 0, 0],\n       [0, 0, 0, 0, 0],\n       [0, 0, 0, 0, 0],\n       [0, 0, 0, 0, 0],\n       [0, 0, 0, 0, 0],\n       [0, 0, 0, 0, 0],\n       [0, 0, 0, 0, 0],\n       [0, 0, 0, 0, 0],\n       [0, 0, 0, 0, 0],\n       [0, 0, 0, 0, 0],\n       [0, 0, 0, 0, 0],\n       [0, 0, 0, 0, 0],\n       [0, 0, 0, 0, 0],\n       [0, 0, 0, 0, 0],\n       [0, 0, 0, 0, 0],\n       [0, 0, 0, 0, 0],\n       [0, 0, 0, 0, 0],\n       [0, 0, 0, 0, 0],\n       [0, 0, 0, 0, 0],\n       [0, 0, 0, 0, 0],\n       [0, 0, 0, 0, 0],\n       [0, 0, 0, 0, 0]])"
     },
     "execution_count": 7,
     "metadata": {},
     "output_type": "execute_result"
    }
   ],
   "source": [
    "import numpy as np\n",
    "\n",
    "shape = (100, 5) # 2 dim: 100 x 5\n",
    "\n",
    "dataset = np.zeros(shape).astype(int)\n",
    "\n",
    "dataset"
   ],
   "metadata": {
    "collapsed": false,
    "ExecuteTime": {
     "start_time": "2023-04-25T09:24:30.011791Z",
     "end_time": "2023-04-25T09:24:30.020259Z"
    }
   }
  },
  {
   "cell_type": "code",
   "execution_count": 9,
   "outputs": [
    {
     "data": {
      "text/plain": "0.39356612372844935"
     },
     "execution_count": 9,
     "metadata": {},
     "output_type": "execute_result"
    }
   ],
   "source": [
    "np.random.random() # Aleatorio: [0, 1)"
   ],
   "metadata": {
    "collapsed": false,
    "ExecuteTime": {
     "start_time": "2023-04-25T09:33:47.108773Z",
     "end_time": "2023-04-25T09:33:47.130752Z"
    }
   }
  },
  {
   "cell_type": "code",
   "execution_count": 18,
   "outputs": [
    {
     "data": {
      "text/plain": "(False, True, False, False)"
     },
     "execution_count": 18,
     "metadata": {},
     "output_type": "execute_result"
    }
   ],
   "source": [
    "np.random.random() < 0.25, np.random.random() < 0.25, np.random.random() < 0.25, np.random.random() < 0.25"
   ],
   "metadata": {
    "collapsed": false,
    "ExecuteTime": {
     "start_time": "2023-04-25T09:35:12.656730Z",
     "end_time": "2023-04-25T09:35:12.683608Z"
    }
   }
  },
  {
   "cell_type": "code",
   "execution_count": 21,
   "outputs": [
    {
     "data": {
      "text/plain": "array([[1, 0, 0, 0, 0],\n       [0, 0, 0, 1, 0],\n       [0, 0, 0, 0, 0],\n       [0, 0, 0, 1, 0],\n       [0, 0, 0, 1, 0],\n       [0, 0, 0, 1, 0],\n       [1, 0, 0, 1, 0],\n       [0, 0, 0, 0, 1],\n       [0, 0, 0, 1, 0],\n       [0, 0, 0, 1, 0],\n       [0, 0, 0, 1, 0],\n       [0, 0, 0, 1, 0],\n       [0, 0, 0, 1, 0],\n       [0, 0, 0, 1, 0],\n       [0, 0, 0, 0, 1],\n       [0, 0, 0, 0, 1],\n       [0, 0, 0, 0, 1],\n       [0, 0, 0, 0, 1],\n       [0, 0, 0, 0, 1],\n       [1, 0, 0, 1, 0],\n       [0, 0, 0, 0, 1],\n       [0, 0, 0, 0, 0],\n       [0, 0, 0, 1, 0],\n       [0, 0, 0, 0, 1],\n       [0, 0, 0, 0, 1],\n       [0, 0, 0, 1, 0],\n       [1, 0, 0, 0, 1],\n       [0, 0, 0, 1, 0],\n       [0, 0, 0, 1, 0],\n       [0, 0, 0, 1, 0],\n       [0, 0, 0, 0, 1],\n       [1, 0, 0, 0, 1],\n       [1, 0, 0, 1, 0],\n       [0, 0, 0, 1, 0],\n       [0, 0, 0, 0, 1],\n       [0, 0, 0, 0, 1],\n       [1, 1, 0, 1, 0],\n       [1, 1, 0, 1, 0],\n       [0, 0, 0, 1, 0],\n       [1, 1, 0, 1, 0],\n       [0, 0, 0, 0, 1],\n       [0, 0, 0, 1, 0],\n       [0, 0, 0, 1, 0],\n       [0, 0, 0, 1, 0],\n       [0, 0, 0, 1, 0],\n       [1, 0, 0, 0, 1],\n       [1, 1, 0, 1, 1],\n       [0, 0, 0, 1, 0],\n       [1, 0, 0, 1, 0],\n       [1, 0, 0, 1, 0],\n       [0, 0, 0, 1, 0],\n       [1, 0, 0, 1, 0],\n       [0, 0, 0, 1, 0],\n       [1, 1, 0, 1, 0],\n       [0, 0, 0, 0, 1],\n       [0, 0, 0, 0, 1],\n       [0, 0, 0, 0, 1],\n       [0, 0, 0, 0, 1],\n       [1, 1, 0, 1, 0],\n       [1, 1, 0, 1, 0],\n       [0, 0, 0, 1, 0],\n       [0, 0, 0, 0, 1],\n       [1, 0, 0, 1, 0],\n       [1, 1, 0, 1, 0],\n       [0, 0, 0, 0, 1],\n       [0, 0, 0, 1, 0],\n       [0, 0, 0, 1, 0],\n       [1, 0, 0, 1, 0],\n       [0, 0, 0, 1, 0],\n       [0, 0, 0, 1, 0],\n       [0, 0, 0, 1, 0],\n       [0, 0, 0, 1, 0],\n       [0, 0, 0, 1, 0],\n       [0, 0, 0, 0, 1],\n       [1, 0, 0, 1, 0],\n       [0, 0, 0, 0, 1],\n       [0, 0, 0, 1, 0],\n       [0, 0, 0, 0, 1],\n       [0, 0, 0, 1, 0],\n       [1, 0, 0, 1, 0],\n       [0, 0, 0, 1, 0],\n       [1, 1, 0, 1, 0],\n       [1, 1, 0, 1, 0],\n       [1, 0, 0, 1, 0],\n       [0, 0, 0, 1, 0],\n       [1, 1, 1, 1, 0],\n       [1, 1, 0, 1, 0],\n       [1, 0, 0, 1, 0],\n       [0, 0, 0, 0, 1],\n       [0, 0, 0, 0, 1],\n       [0, 0, 0, 1, 0],\n       [1, 1, 0, 1, 1],\n       [0, 0, 0, 0, 1],\n       [1, 1, 0, 1, 1],\n       [0, 0, 0, 0, 1],\n       [0, 0, 0, 1, 0],\n       [0, 0, 0, 1, 0],\n       [1, 1, 0, 1, 0],\n       [0, 0, 0, 1, 0],\n       [0, 0, 0, 1, 0]])"
     },
     "execution_count": 21,
     "metadata": {},
     "output_type": "execute_result"
    }
   ],
   "source": [
    "for i in range(0, 100):\n",
    "    # [LECHE, HUEVO, PAN, FRUTA, DULCE]\n",
    "    sample = [0, 0, 0, 0, 0]\n",
    "\n",
    "    # Si una probabilidad < 1/3\n",
    "    # entonces suponemos que esta muestra\n",
    "    # compró leche\n",
    "    if np.random.random() < 0.333:\n",
    "        sample[0] = 1 # Leche activo\n",
    "\n",
    "        # Dado que ya compró leche\n",
    "\n",
    "        # Probabilidad de comprar huevo\n",
    "        # dado que compró leche\n",
    "        if np.random.random() < 0.5:\n",
    "            sample[1] = 1 # Huevo activo\n",
    "\n",
    "            # Dado que ya compró leche y huevo\n",
    "            if np.random.random() < 0.2:\n",
    "                sample[2] = 1 # Pan activo\n",
    "                # Ya compró pan\n",
    "            else:\n",
    "                # No compró pan\n",
    "                # Probabilidad de comprar fruta si compró leche y huevo\n",
    "                # y no compró pan es del 50%\n",
    "                if np.random.random() < 0.5:\n",
    "                    sample[3] = 1 # Fruta activo\n",
    "\n",
    "    # Probabilidad de comprar fruta es del 60%\n",
    "    if np.random.random() < 0.6:\n",
    "        sample[3] = 1 # Fruta activo\n",
    "    else:\n",
    "        if np.random.random() < 0.8:\n",
    "            sample[4] = 1 # Fruta activo\n",
    "\n",
    "    #print(sample)\n",
    "\n",
    "    # Para la fila i:\n",
    "    dataset[i] = sample\n",
    "\n",
    "dataset"
   ],
   "metadata": {
    "collapsed": false,
    "ExecuteTime": {
     "start_time": "2023-04-25T09:54:41.902638Z",
     "end_time": "2023-04-25T09:54:41.918358Z"
    }
   }
  },
  {
   "cell_type": "code",
   "execution_count": 22,
   "outputs": [
    {
     "data": {
      "text/plain": "array([[1, 0, 0, 0, 0],\n       [0, 0, 0, 1, 0],\n       [0, 0, 0, 0, 0],\n       [0, 0, 0, 1, 0],\n       [0, 0, 0, 1, 0],\n       [0, 0, 0, 1, 0],\n       [1, 0, 0, 1, 0],\n       [0, 0, 0, 0, 1],\n       [0, 0, 0, 1, 0],\n       [0, 0, 0, 1, 0],\n       [0, 0, 0, 1, 0],\n       [0, 0, 0, 1, 0],\n       [0, 0, 0, 1, 0],\n       [0, 0, 0, 1, 0],\n       [0, 0, 0, 0, 1],\n       [0, 0, 0, 0, 1],\n       [0, 0, 0, 0, 1],\n       [0, 0, 0, 0, 1],\n       [0, 0, 0, 0, 1],\n       [1, 0, 0, 1, 0],\n       [0, 0, 0, 0, 1],\n       [0, 0, 0, 0, 0],\n       [0, 0, 0, 1, 0],\n       [0, 0, 0, 0, 1],\n       [0, 0, 0, 0, 1],\n       [0, 0, 0, 1, 0],\n       [1, 0, 0, 0, 1],\n       [0, 0, 0, 1, 0],\n       [0, 0, 0, 1, 0],\n       [0, 0, 0, 1, 0],\n       [0, 0, 0, 0, 1],\n       [1, 0, 0, 0, 1],\n       [1, 0, 0, 1, 0],\n       [0, 0, 0, 1, 0],\n       [0, 0, 0, 0, 1],\n       [0, 0, 0, 0, 1],\n       [1, 1, 0, 1, 0],\n       [1, 1, 0, 1, 0],\n       [0, 0, 0, 1, 0],\n       [1, 1, 0, 1, 0],\n       [0, 0, 0, 0, 1],\n       [0, 0, 0, 1, 0],\n       [0, 0, 0, 1, 0],\n       [0, 0, 0, 1, 0],\n       [0, 0, 0, 1, 0],\n       [1, 0, 0, 0, 1],\n       [1, 1, 0, 1, 1],\n       [0, 0, 0, 1, 0],\n       [1, 0, 0, 1, 0],\n       [1, 0, 0, 1, 0],\n       [0, 0, 0, 1, 0],\n       [1, 0, 0, 1, 0],\n       [0, 0, 0, 1, 0],\n       [1, 1, 0, 1, 0],\n       [0, 0, 0, 0, 1],\n       [0, 0, 0, 0, 1],\n       [0, 0, 0, 0, 1],\n       [0, 0, 0, 0, 1],\n       [1, 1, 0, 1, 0],\n       [1, 1, 0, 1, 0],\n       [0, 0, 0, 1, 0],\n       [0, 0, 0, 0, 1],\n       [1, 0, 0, 1, 0],\n       [1, 1, 0, 1, 0],\n       [0, 0, 0, 0, 1],\n       [0, 0, 0, 1, 0],\n       [0, 0, 0, 1, 0],\n       [1, 0, 0, 1, 0],\n       [0, 0, 0, 1, 0],\n       [0, 0, 0, 1, 0],\n       [0, 0, 0, 1, 0],\n       [0, 0, 0, 1, 0],\n       [0, 0, 0, 1, 0],\n       [0, 0, 0, 0, 1],\n       [1, 0, 0, 1, 0],\n       [0, 0, 0, 0, 1],\n       [0, 0, 0, 1, 0],\n       [0, 0, 0, 0, 1],\n       [0, 0, 0, 1, 0],\n       [1, 0, 0, 1, 0],\n       [0, 0, 0, 1, 0],\n       [1, 1, 0, 1, 0],\n       [1, 1, 0, 1, 0],\n       [1, 0, 0, 1, 0],\n       [0, 0, 0, 1, 0],\n       [1, 1, 1, 1, 0],\n       [1, 1, 0, 1, 0],\n       [1, 0, 0, 1, 0],\n       [0, 0, 0, 0, 1],\n       [0, 0, 0, 0, 1],\n       [0, 0, 0, 1, 0],\n       [1, 1, 0, 1, 1],\n       [0, 0, 0, 0, 1],\n       [1, 1, 0, 1, 1],\n       [0, 0, 0, 0, 1],\n       [0, 0, 0, 1, 0],\n       [0, 0, 0, 1, 0],\n       [1, 1, 0, 1, 0],\n       [0, 0, 0, 1, 0],\n       [0, 0, 0, 1, 0]])"
     },
     "execution_count": 22,
     "metadata": {},
     "output_type": "execute_result"
    }
   ],
   "source": [
    "dataset"
   ],
   "metadata": {
    "collapsed": false,
    "ExecuteTime": {
     "start_time": "2023-04-25T10:02:42.643499Z",
     "end_time": "2023-04-25T10:02:42.677871Z"
    }
   }
  },
  {
   "cell_type": "markdown",
   "source": [
    "El análisis de afinidad se basa en premisas y conclusiones. Una premisa es una verdad que se usa para contar conclusiones a partir de esa verdad.\n",
    "\n",
    "Por ejemplo, la premisa es: COMPRÓ LECHE, entonces la conclusión podría ser: COMPRÓ HUEVO.\n",
    "\n",
    "Las combinaciones que tendríamos para las premisas y conclusiones directas (no negadas) serían:\n",
    "\n",
    "1. LECHE -> HUEVO (?, ?)\n",
    "2. LECHE -> PAN (?, ?)\n",
    "3. LECHE -> FRUTAS (?, ?)\n",
    "4. LECHE -> DULCES (?, ?)\n",
    "5. HUEVO -> LECHE (?, ?)\n",
    "6. HUEVO -> PAN (?, ?)\n",
    "7. HUEVO -> FRUTAS (?, ?)\n",
    "8. HUEVO -> DULCES (?, ?)\n",
    "9. PAN -> LECHE (?, ?)\n",
    "10. PAN -> HUEVO (?, ?)\n",
    "11. PAN -> FRUTAS (?, ?)\n",
    "12. PAN -> DULCES (?, ?)\n",
    "13. FRUTAS -> LECHE (?, ?)\n",
    "14. FRUTAS -> HUEVO (?, ?)\n",
    "15. FRUTAS -> PAN (?, ?)\n",
    "16. FRUTAS -> DULCES (?, ?)\n",
    "17. DULCES -> LECHE (?, ?)\n",
    "18. DULCES -> HUEVO (?, ?)\n",
    "19. DULCES -> PAN (?, ?)\n",
    "20. DULCES -> FRUTAS (?, ?)\n",
    "\n",
    "Para `n` premisas, tendríamos en la forma simple `n * (n - 1)` posibles casos.\n",
    "\n",
    "Y también podríamos pensar en las conclusiones y premisas negadas, por ejemplo:\n",
    "\n",
    "* NO LECHE -> PAN\n",
    "* FRUTAS -> NO DULCES\n",
    "\n",
    "Entonces, vamos a generar un algoritmo que lance todas las posibles premisas y conclusiones, para encontrar (ordenar) aquellas que tengan mayor confianza (es decir, tengan mayor probabilidad) y tengan también el mayor soporte (es decir, aparezcan más veces).\n",
    "\n",
    "En un análisis más amplio, podríamos formar premisas y conclusiones más complejas, pero requeriría tener más cantidad datos (mayor volumen para mayor credibilidad).\n",
    "\n",
    "* LECHE Y NO-HUEVO -> FRUTAS\n",
    "* LECHE O HUEVO -> PAN Y DULCES\n",
    "\n",
    "En ejemplo diferente, podríamos tener las entregas a tiempo de personas en sus proyectos:\n",
    "\n",
    "| PERSONA ID | PROYECTO 1 | PROYECTO 2 | PROYECTO 3 | PROYECTO 4 | PROYECTO 5 | PROYECTO 6 |\n",
    "|------------|------------|------------|------------|------------|------------|------------|\n",
    "| 123        | SI         | NO         | SI         | SI         | SI         | SI         |\n",
    "| 456        | NO         | NO         | SI         | SI         | NO         | SI         |\n",
    "| 765        | SI         | SI         | NO         | SI         | SI         | SI         |\n",
    "| 234        | SI         | NO         | SI         | NO         | SI         | SI         |\n",
    "| 444        | NO         | NO         | SI         | SI         | SI         | NO         |\n",
    "\n",
    "* ENTREGÓ PROYECTO 1 Y PROYECTO 2 -> PROYECTO 3"
   ],
   "metadata": {
    "collapsed": false
   }
  },
  {
   "cell_type": "markdown",
   "source": [
    "## Lo siguiente es contar cuántas veces se repite una premisa que llega a un conclusión, para determinar la confianza y el soporte"
   ],
   "metadata": {
    "collapsed": false
   }
  },
  {
   "cell_type": "code",
   "execution_count": 27,
   "outputs": [
    {
     "data": {
      "text/plain": "    LECHE  HUEVO  PAN  FRUTAS  DULCES\n0       1      0    0       0       0\n1       0      0    0       1       0\n2       0      0    0       0       0\n3       0      0    0       1       0\n4       0      0    0       1       0\n..    ...    ...  ...     ...     ...\n95      0      0    0       1       0\n96      0      0    0       1       0\n97      1      1    0       1       0\n98      0      0    0       1       0\n99      0      0    0       1       0\n\n[100 rows x 5 columns]",
      "text/html": "<div>\n<style scoped>\n    .dataframe tbody tr th:only-of-type {\n        vertical-align: middle;\n    }\n\n    .dataframe tbody tr th {\n        vertical-align: top;\n    }\n\n    .dataframe thead th {\n        text-align: right;\n    }\n</style>\n<table border=\"1\" class=\"dataframe\">\n  <thead>\n    <tr style=\"text-align: right;\">\n      <th></th>\n      <th>LECHE</th>\n      <th>HUEVO</th>\n      <th>PAN</th>\n      <th>FRUTAS</th>\n      <th>DULCES</th>\n    </tr>\n  </thead>\n  <tbody>\n    <tr>\n      <th>0</th>\n      <td>1</td>\n      <td>0</td>\n      <td>0</td>\n      <td>0</td>\n      <td>0</td>\n    </tr>\n    <tr>\n      <th>1</th>\n      <td>0</td>\n      <td>0</td>\n      <td>0</td>\n      <td>1</td>\n      <td>0</td>\n    </tr>\n    <tr>\n      <th>2</th>\n      <td>0</td>\n      <td>0</td>\n      <td>0</td>\n      <td>0</td>\n      <td>0</td>\n    </tr>\n    <tr>\n      <th>3</th>\n      <td>0</td>\n      <td>0</td>\n      <td>0</td>\n      <td>1</td>\n      <td>0</td>\n    </tr>\n    <tr>\n      <th>4</th>\n      <td>0</td>\n      <td>0</td>\n      <td>0</td>\n      <td>1</td>\n      <td>0</td>\n    </tr>\n    <tr>\n      <th>...</th>\n      <td>...</td>\n      <td>...</td>\n      <td>...</td>\n      <td>...</td>\n      <td>...</td>\n    </tr>\n    <tr>\n      <th>95</th>\n      <td>0</td>\n      <td>0</td>\n      <td>0</td>\n      <td>1</td>\n      <td>0</td>\n    </tr>\n    <tr>\n      <th>96</th>\n      <td>0</td>\n      <td>0</td>\n      <td>0</td>\n      <td>1</td>\n      <td>0</td>\n    </tr>\n    <tr>\n      <th>97</th>\n      <td>1</td>\n      <td>1</td>\n      <td>0</td>\n      <td>1</td>\n      <td>0</td>\n    </tr>\n    <tr>\n      <th>98</th>\n      <td>0</td>\n      <td>0</td>\n      <td>0</td>\n      <td>1</td>\n      <td>0</td>\n    </tr>\n    <tr>\n      <th>99</th>\n      <td>0</td>\n      <td>0</td>\n      <td>0</td>\n      <td>1</td>\n      <td>0</td>\n    </tr>\n  </tbody>\n</table>\n<p>100 rows × 5 columns</p>\n</div>"
     },
     "execution_count": 27,
     "metadata": {},
     "output_type": "execute_result"
    }
   ],
   "source": [
    "import pandas as pd\n",
    "\n",
    "dataset = pd.DataFrame(dataset, columns=[\"LECHE\", \"HUEVO\", \"PAN\", \"FRUTAS\", \"DULCES\"])\n",
    "\n",
    "dataset"
   ],
   "metadata": {
    "collapsed": false,
    "ExecuteTime": {
     "start_time": "2023-04-25T10:24:28.393202Z",
     "end_time": "2023-04-25T10:24:28.408482Z"
    }
   }
  },
  {
   "cell_type": "code",
   "execution_count": 26,
   "outputs": [
    {
     "data": {
      "text/plain": "LECHE     31\nHUEVO     31\nPAN       31\nFRUTAS    31\nDULCES    31\ndtype: int64"
     },
     "execution_count": 26,
     "metadata": {},
     "output_type": "execute_result"
    }
   ],
   "source": [
    "dataset.query(\" LECHE == 1 \").count()"
   ],
   "metadata": {
    "collapsed": false,
    "ExecuteTime": {
     "start_time": "2023-04-25T10:22:55.957651Z",
     "end_time": "2023-04-25T10:22:55.970674Z"
    }
   }
  },
  {
   "cell_type": "code",
   "execution_count": 29,
   "outputs": [
    {
     "data": {
      "text/plain": "    LECHE  HUEVO  PAN  FRUTAS  DULCES\n0       1      0    0       0       0\n6       1      0    0       1       0\n19      1      0    0       1       0\n26      1      0    0       0       1\n31      1      0    0       0       1\n32      1      0    0       1       0\n36      1      1    0       1       0\n37      1      1    0       1       0\n39      1      1    0       1       0\n45      1      0    0       0       1\n46      1      1    0       1       1\n48      1      0    0       1       0\n49      1      0    0       1       0\n51      1      0    0       1       0\n53      1      1    0       1       0\n58      1      1    0       1       0\n59      1      1    0       1       0\n62      1      0    0       1       0\n63      1      1    0       1       0\n67      1      0    0       1       0\n74      1      0    0       1       0\n79      1      0    0       1       0\n81      1      1    0       1       0\n82      1      1    0       1       0\n83      1      0    0       1       0\n85      1      1    1       1       0\n86      1      1    0       1       0\n87      1      0    0       1       0\n91      1      1    0       1       1\n93      1      1    0       1       1\n97      1      1    0       1       0",
      "text/html": "<div>\n<style scoped>\n    .dataframe tbody tr th:only-of-type {\n        vertical-align: middle;\n    }\n\n    .dataframe tbody tr th {\n        vertical-align: top;\n    }\n\n    .dataframe thead th {\n        text-align: right;\n    }\n</style>\n<table border=\"1\" class=\"dataframe\">\n  <thead>\n    <tr style=\"text-align: right;\">\n      <th></th>\n      <th>LECHE</th>\n      <th>HUEVO</th>\n      <th>PAN</th>\n      <th>FRUTAS</th>\n      <th>DULCES</th>\n    </tr>\n  </thead>\n  <tbody>\n    <tr>\n      <th>0</th>\n      <td>1</td>\n      <td>0</td>\n      <td>0</td>\n      <td>0</td>\n      <td>0</td>\n    </tr>\n    <tr>\n      <th>6</th>\n      <td>1</td>\n      <td>0</td>\n      <td>0</td>\n      <td>1</td>\n      <td>0</td>\n    </tr>\n    <tr>\n      <th>19</th>\n      <td>1</td>\n      <td>0</td>\n      <td>0</td>\n      <td>1</td>\n      <td>0</td>\n    </tr>\n    <tr>\n      <th>26</th>\n      <td>1</td>\n      <td>0</td>\n      <td>0</td>\n      <td>0</td>\n      <td>1</td>\n    </tr>\n    <tr>\n      <th>31</th>\n      <td>1</td>\n      <td>0</td>\n      <td>0</td>\n      <td>0</td>\n      <td>1</td>\n    </tr>\n    <tr>\n      <th>32</th>\n      <td>1</td>\n      <td>0</td>\n      <td>0</td>\n      <td>1</td>\n      <td>0</td>\n    </tr>\n    <tr>\n      <th>36</th>\n      <td>1</td>\n      <td>1</td>\n      <td>0</td>\n      <td>1</td>\n      <td>0</td>\n    </tr>\n    <tr>\n      <th>37</th>\n      <td>1</td>\n      <td>1</td>\n      <td>0</td>\n      <td>1</td>\n      <td>0</td>\n    </tr>\n    <tr>\n      <th>39</th>\n      <td>1</td>\n      <td>1</td>\n      <td>0</td>\n      <td>1</td>\n      <td>0</td>\n    </tr>\n    <tr>\n      <th>45</th>\n      <td>1</td>\n      <td>0</td>\n      <td>0</td>\n      <td>0</td>\n      <td>1</td>\n    </tr>\n    <tr>\n      <th>46</th>\n      <td>1</td>\n      <td>1</td>\n      <td>0</td>\n      <td>1</td>\n      <td>1</td>\n    </tr>\n    <tr>\n      <th>48</th>\n      <td>1</td>\n      <td>0</td>\n      <td>0</td>\n      <td>1</td>\n      <td>0</td>\n    </tr>\n    <tr>\n      <th>49</th>\n      <td>1</td>\n      <td>0</td>\n      <td>0</td>\n      <td>1</td>\n      <td>0</td>\n    </tr>\n    <tr>\n      <th>51</th>\n      <td>1</td>\n      <td>0</td>\n      <td>0</td>\n      <td>1</td>\n      <td>0</td>\n    </tr>\n    <tr>\n      <th>53</th>\n      <td>1</td>\n      <td>1</td>\n      <td>0</td>\n      <td>1</td>\n      <td>0</td>\n    </tr>\n    <tr>\n      <th>58</th>\n      <td>1</td>\n      <td>1</td>\n      <td>0</td>\n      <td>1</td>\n      <td>0</td>\n    </tr>\n    <tr>\n      <th>59</th>\n      <td>1</td>\n      <td>1</td>\n      <td>0</td>\n      <td>1</td>\n      <td>0</td>\n    </tr>\n    <tr>\n      <th>62</th>\n      <td>1</td>\n      <td>0</td>\n      <td>0</td>\n      <td>1</td>\n      <td>0</td>\n    </tr>\n    <tr>\n      <th>63</th>\n      <td>1</td>\n      <td>1</td>\n      <td>0</td>\n      <td>1</td>\n      <td>0</td>\n    </tr>\n    <tr>\n      <th>67</th>\n      <td>1</td>\n      <td>0</td>\n      <td>0</td>\n      <td>1</td>\n      <td>0</td>\n    </tr>\n    <tr>\n      <th>74</th>\n      <td>1</td>\n      <td>0</td>\n      <td>0</td>\n      <td>1</td>\n      <td>0</td>\n    </tr>\n    <tr>\n      <th>79</th>\n      <td>1</td>\n      <td>0</td>\n      <td>0</td>\n      <td>1</td>\n      <td>0</td>\n    </tr>\n    <tr>\n      <th>81</th>\n      <td>1</td>\n      <td>1</td>\n      <td>0</td>\n      <td>1</td>\n      <td>0</td>\n    </tr>\n    <tr>\n      <th>82</th>\n      <td>1</td>\n      <td>1</td>\n      <td>0</td>\n      <td>1</td>\n      <td>0</td>\n    </tr>\n    <tr>\n      <th>83</th>\n      <td>1</td>\n      <td>0</td>\n      <td>0</td>\n      <td>1</td>\n      <td>0</td>\n    </tr>\n    <tr>\n      <th>85</th>\n      <td>1</td>\n      <td>1</td>\n      <td>1</td>\n      <td>1</td>\n      <td>0</td>\n    </tr>\n    <tr>\n      <th>86</th>\n      <td>1</td>\n      <td>1</td>\n      <td>0</td>\n      <td>1</td>\n      <td>0</td>\n    </tr>\n    <tr>\n      <th>87</th>\n      <td>1</td>\n      <td>0</td>\n      <td>0</td>\n      <td>1</td>\n      <td>0</td>\n    </tr>\n    <tr>\n      <th>91</th>\n      <td>1</td>\n      <td>1</td>\n      <td>0</td>\n      <td>1</td>\n      <td>1</td>\n    </tr>\n    <tr>\n      <th>93</th>\n      <td>1</td>\n      <td>1</td>\n      <td>0</td>\n      <td>1</td>\n      <td>1</td>\n    </tr>\n    <tr>\n      <th>97</th>\n      <td>1</td>\n      <td>1</td>\n      <td>0</td>\n      <td>1</td>\n      <td>0</td>\n    </tr>\n  </tbody>\n</table>\n</div>"
     },
     "execution_count": 29,
     "metadata": {},
     "output_type": "execute_result"
    }
   ],
   "source": [
    "dataset[ dataset[\"LECHE\"] == 1 ]"
   ],
   "metadata": {
    "collapsed": false,
    "ExecuteTime": {
     "start_time": "2023-04-25T10:26:46.262879Z",
     "end_time": "2023-04-25T10:26:46.288582Z"
    }
   }
  },
  {
   "cell_type": "code",
   "execution_count": 31,
   "outputs": [
    {
     "data": {
      "text/plain": "    LECHE  HUEVO  PAN  FRUTAS  DULCES\n36      1      1    0       1       0\n37      1      1    0       1       0\n39      1      1    0       1       0\n46      1      1    0       1       1\n53      1      1    0       1       0\n58      1      1    0       1       0\n59      1      1    0       1       0\n63      1      1    0       1       0\n81      1      1    0       1       0\n82      1      1    0       1       0\n85      1      1    1       1       0\n86      1      1    0       1       0\n91      1      1    0       1       1\n93      1      1    0       1       1\n97      1      1    0       1       0",
      "text/html": "<div>\n<style scoped>\n    .dataframe tbody tr th:only-of-type {\n        vertical-align: middle;\n    }\n\n    .dataframe tbody tr th {\n        vertical-align: top;\n    }\n\n    .dataframe thead th {\n        text-align: right;\n    }\n</style>\n<table border=\"1\" class=\"dataframe\">\n  <thead>\n    <tr style=\"text-align: right;\">\n      <th></th>\n      <th>LECHE</th>\n      <th>HUEVO</th>\n      <th>PAN</th>\n      <th>FRUTAS</th>\n      <th>DULCES</th>\n    </tr>\n  </thead>\n  <tbody>\n    <tr>\n      <th>36</th>\n      <td>1</td>\n      <td>1</td>\n      <td>0</td>\n      <td>1</td>\n      <td>0</td>\n    </tr>\n    <tr>\n      <th>37</th>\n      <td>1</td>\n      <td>1</td>\n      <td>0</td>\n      <td>1</td>\n      <td>0</td>\n    </tr>\n    <tr>\n      <th>39</th>\n      <td>1</td>\n      <td>1</td>\n      <td>0</td>\n      <td>1</td>\n      <td>0</td>\n    </tr>\n    <tr>\n      <th>46</th>\n      <td>1</td>\n      <td>1</td>\n      <td>0</td>\n      <td>1</td>\n      <td>1</td>\n    </tr>\n    <tr>\n      <th>53</th>\n      <td>1</td>\n      <td>1</td>\n      <td>0</td>\n      <td>1</td>\n      <td>0</td>\n    </tr>\n    <tr>\n      <th>58</th>\n      <td>1</td>\n      <td>1</td>\n      <td>0</td>\n      <td>1</td>\n      <td>0</td>\n    </tr>\n    <tr>\n      <th>59</th>\n      <td>1</td>\n      <td>1</td>\n      <td>0</td>\n      <td>1</td>\n      <td>0</td>\n    </tr>\n    <tr>\n      <th>63</th>\n      <td>1</td>\n      <td>1</td>\n      <td>0</td>\n      <td>1</td>\n      <td>0</td>\n    </tr>\n    <tr>\n      <th>81</th>\n      <td>1</td>\n      <td>1</td>\n      <td>0</td>\n      <td>1</td>\n      <td>0</td>\n    </tr>\n    <tr>\n      <th>82</th>\n      <td>1</td>\n      <td>1</td>\n      <td>0</td>\n      <td>1</td>\n      <td>0</td>\n    </tr>\n    <tr>\n      <th>85</th>\n      <td>1</td>\n      <td>1</td>\n      <td>1</td>\n      <td>1</td>\n      <td>0</td>\n    </tr>\n    <tr>\n      <th>86</th>\n      <td>1</td>\n      <td>1</td>\n      <td>0</td>\n      <td>1</td>\n      <td>0</td>\n    </tr>\n    <tr>\n      <th>91</th>\n      <td>1</td>\n      <td>1</td>\n      <td>0</td>\n      <td>1</td>\n      <td>1</td>\n    </tr>\n    <tr>\n      <th>93</th>\n      <td>1</td>\n      <td>1</td>\n      <td>0</td>\n      <td>1</td>\n      <td>1</td>\n    </tr>\n    <tr>\n      <th>97</th>\n      <td>1</td>\n      <td>1</td>\n      <td>0</td>\n      <td>1</td>\n      <td>0</td>\n    </tr>\n  </tbody>\n</table>\n</div>"
     },
     "execution_count": 31,
     "metadata": {},
     "output_type": "execute_result"
    }
   ],
   "source": [
    "dataset[ (dataset[\"LECHE\"] == 1) & (dataset[\"HUEVO\"] == 1) ]"
   ],
   "metadata": {
    "collapsed": false,
    "ExecuteTime": {
     "start_time": "2023-04-25T10:29:12.925312Z",
     "end_time": "2023-04-25T10:29:12.942483Z"
    }
   }
  },
  {
   "cell_type": "code",
   "execution_count": 32,
   "outputs": [
    {
     "data": {
      "text/plain": "    LECHE  HUEVO  PAN  FRUTAS  DULCES\n1       0      0    0       1       0\n3       0      0    0       1       0\n4       0      0    0       1       0\n5       0      0    0       1       0\n6       1      0    0       1       0\n..    ...    ...  ...     ...     ...\n95      0      0    0       1       0\n96      0      0    0       1       0\n97      1      1    0       1       0\n98      0      0    0       1       0\n99      0      0    0       1       0\n\n[65 rows x 5 columns]",
      "text/html": "<div>\n<style scoped>\n    .dataframe tbody tr th:only-of-type {\n        vertical-align: middle;\n    }\n\n    .dataframe tbody tr th {\n        vertical-align: top;\n    }\n\n    .dataframe thead th {\n        text-align: right;\n    }\n</style>\n<table border=\"1\" class=\"dataframe\">\n  <thead>\n    <tr style=\"text-align: right;\">\n      <th></th>\n      <th>LECHE</th>\n      <th>HUEVO</th>\n      <th>PAN</th>\n      <th>FRUTAS</th>\n      <th>DULCES</th>\n    </tr>\n  </thead>\n  <tbody>\n    <tr>\n      <th>1</th>\n      <td>0</td>\n      <td>0</td>\n      <td>0</td>\n      <td>1</td>\n      <td>0</td>\n    </tr>\n    <tr>\n      <th>3</th>\n      <td>0</td>\n      <td>0</td>\n      <td>0</td>\n      <td>1</td>\n      <td>0</td>\n    </tr>\n    <tr>\n      <th>4</th>\n      <td>0</td>\n      <td>0</td>\n      <td>0</td>\n      <td>1</td>\n      <td>0</td>\n    </tr>\n    <tr>\n      <th>5</th>\n      <td>0</td>\n      <td>0</td>\n      <td>0</td>\n      <td>1</td>\n      <td>0</td>\n    </tr>\n    <tr>\n      <th>6</th>\n      <td>1</td>\n      <td>0</td>\n      <td>0</td>\n      <td>1</td>\n      <td>0</td>\n    </tr>\n    <tr>\n      <th>...</th>\n      <td>...</td>\n      <td>...</td>\n      <td>...</td>\n      <td>...</td>\n      <td>...</td>\n    </tr>\n    <tr>\n      <th>95</th>\n      <td>0</td>\n      <td>0</td>\n      <td>0</td>\n      <td>1</td>\n      <td>0</td>\n    </tr>\n    <tr>\n      <th>96</th>\n      <td>0</td>\n      <td>0</td>\n      <td>0</td>\n      <td>1</td>\n      <td>0</td>\n    </tr>\n    <tr>\n      <th>97</th>\n      <td>1</td>\n      <td>1</td>\n      <td>0</td>\n      <td>1</td>\n      <td>0</td>\n    </tr>\n    <tr>\n      <th>98</th>\n      <td>0</td>\n      <td>0</td>\n      <td>0</td>\n      <td>1</td>\n      <td>0</td>\n    </tr>\n    <tr>\n      <th>99</th>\n      <td>0</td>\n      <td>0</td>\n      <td>0</td>\n      <td>1</td>\n      <td>0</td>\n    </tr>\n  </tbody>\n</table>\n<p>65 rows × 5 columns</p>\n</div>"
     },
     "execution_count": 32,
     "metadata": {},
     "output_type": "execute_result"
    }
   ],
   "source": [
    "dataset[ (dataset[\"FRUTAS\"] == 1) & (dataset[\"DULCES\"] == 0) ]"
   ],
   "metadata": {
    "collapsed": false,
    "ExecuteTime": {
     "start_time": "2023-04-25T10:29:50.121678Z",
     "end_time": "2023-04-25T10:29:50.147115Z"
    }
   }
  },
  {
   "cell_type": "code",
   "execution_count": 33,
   "outputs": [
    {
     "data": {
      "text/plain": "    LECHE  HUEVO  PAN  FRUTAS  DULCES\n46      1      1    0       1       1\n91      1      1    0       1       1\n93      1      1    0       1       1",
      "text/html": "<div>\n<style scoped>\n    .dataframe tbody tr th:only-of-type {\n        vertical-align: middle;\n    }\n\n    .dataframe tbody tr th {\n        vertical-align: top;\n    }\n\n    .dataframe thead th {\n        text-align: right;\n    }\n</style>\n<table border=\"1\" class=\"dataframe\">\n  <thead>\n    <tr style=\"text-align: right;\">\n      <th></th>\n      <th>LECHE</th>\n      <th>HUEVO</th>\n      <th>PAN</th>\n      <th>FRUTAS</th>\n      <th>DULCES</th>\n    </tr>\n  </thead>\n  <tbody>\n    <tr>\n      <th>46</th>\n      <td>1</td>\n      <td>1</td>\n      <td>0</td>\n      <td>1</td>\n      <td>1</td>\n    </tr>\n    <tr>\n      <th>91</th>\n      <td>1</td>\n      <td>1</td>\n      <td>0</td>\n      <td>1</td>\n      <td>1</td>\n    </tr>\n    <tr>\n      <th>93</th>\n      <td>1</td>\n      <td>1</td>\n      <td>0</td>\n      <td>1</td>\n      <td>1</td>\n    </tr>\n  </tbody>\n</table>\n</div>"
     },
     "execution_count": 33,
     "metadata": {},
     "output_type": "execute_result"
    }
   ],
   "source": [
    "dataset[ (dataset[\"FRUTAS\"] == 1) & (dataset[\"DULCES\"] == 1) ]"
   ],
   "metadata": {
    "collapsed": false,
    "ExecuteTime": {
     "start_time": "2023-04-25T10:30:08.727845Z",
     "end_time": "2023-04-25T10:30:08.750987Z"
    }
   }
  },
  {
   "cell_type": "code",
   "execution_count": 38,
   "outputs": [
    {
     "data": {
      "text/plain": "68"
     },
     "execution_count": 38,
     "metadata": {},
     "output_type": "execute_result"
    }
   ],
   "source": [
    "dataset[ (dataset[\"FRUTAS\"] == 1)].count()[0]"
   ],
   "metadata": {
    "collapsed": false,
    "ExecuteTime": {
     "start_time": "2023-04-25T10:31:11.979900Z",
     "end_time": "2023-04-25T10:31:12.039902Z"
    }
   }
  },
  {
   "cell_type": "code",
   "execution_count": 37,
   "outputs": [
    {
     "data": {
      "text/plain": "3"
     },
     "execution_count": 37,
     "metadata": {},
     "output_type": "execute_result"
    }
   ],
   "source": [
    "dataset[ (dataset[\"FRUTAS\"] == 1) & (dataset[\"DULCES\"] == 1) ].count()[0]"
   ],
   "metadata": {
    "collapsed": false,
    "ExecuteTime": {
     "start_time": "2023-04-25T10:30:46.691639Z",
     "end_time": "2023-04-25T10:30:46.707379Z"
    }
   }
  },
  {
   "cell_type": "code",
   "execution_count": 41,
   "outputs": [
    {
     "data": {
      "text/plain": "(4.411764705882353, 68)"
     },
     "execution_count": 41,
     "metadata": {},
     "output_type": "execute_result"
    }
   ],
   "source": [
    "100 * 3/68, 68 # (CONFIANZA, SOPORTE)"
   ],
   "metadata": {
    "collapsed": false,
    "ExecuteTime": {
     "start_time": "2023-04-25T10:32:24.230658Z",
     "end_time": "2023-04-25T10:32:24.255404Z"
    }
   }
  },
  {
   "cell_type": "code",
   "execution_count": 47,
   "outputs": [
    {
     "name": "stdout",
     "output_type": "stream",
     "text": [
      "COMPRÓ LECHE: 31 veces\n",
      "SI COMPRO LECHE, ENTONCES COMPRO HUEVO\n",
      "CONFIANZA: 48.4% SOPORTE: 15 veces\n",
      "SI COMPRO LECHE, ENTONCES COMPRO PAN\n",
      "CONFIANZA: 3.2% SOPORTE: 1 veces\n",
      "SI COMPRO LECHE, ENTONCES COMPRO FRUTAS\n",
      "CONFIANZA: 87.1% SOPORTE: 27 veces\n",
      "SI COMPRO LECHE, ENTONCES COMPRO DULCES\n",
      "CONFIANZA: 19.4% SOPORTE: 6 veces\n",
      "COMPRÓ HUEVO: 15 veces\n",
      "SI COMPRO HUEVO, ENTONCES COMPRO LECHE\n",
      "CONFIANZA: 100.0% SOPORTE: 15 veces\n",
      "SI COMPRO HUEVO, ENTONCES COMPRO PAN\n",
      "CONFIANZA: 6.7% SOPORTE: 1 veces\n",
      "SI COMPRO HUEVO, ENTONCES COMPRO FRUTAS\n",
      "CONFIANZA: 100.0% SOPORTE: 15 veces\n",
      "SI COMPRO HUEVO, ENTONCES COMPRO DULCES\n",
      "CONFIANZA: 20.0% SOPORTE: 3 veces\n",
      "COMPRÓ PAN: 1 veces\n",
      "SI COMPRO PAN, ENTONCES COMPRO LECHE\n",
      "CONFIANZA: 100.0% SOPORTE: 1 veces\n",
      "SI COMPRO PAN, ENTONCES COMPRO HUEVO\n",
      "CONFIANZA: 100.0% SOPORTE: 1 veces\n",
      "SI COMPRO PAN, ENTONCES COMPRO FRUTAS\n",
      "CONFIANZA: 100.0% SOPORTE: 1 veces\n",
      "SI COMPRO PAN, ENTONCES COMPRO DULCES\n",
      "CONFIANZA: 0.0% SOPORTE: 0 veces\n",
      "COMPRÓ FRUTAS: 68 veces\n",
      "SI COMPRO FRUTAS, ENTONCES COMPRO LECHE\n",
      "CONFIANZA: 39.7% SOPORTE: 27 veces\n",
      "SI COMPRO FRUTAS, ENTONCES COMPRO HUEVO\n",
      "CONFIANZA: 22.1% SOPORTE: 15 veces\n",
      "SI COMPRO FRUTAS, ENTONCES COMPRO PAN\n",
      "CONFIANZA: 1.5% SOPORTE: 1 veces\n",
      "SI COMPRO FRUTAS, ENTONCES COMPRO DULCES\n",
      "CONFIANZA: 4.4% SOPORTE: 3 veces\n",
      "COMPRÓ DULCES: 32 veces\n",
      "SI COMPRO DULCES, ENTONCES COMPRO LECHE\n",
      "CONFIANZA: 18.8% SOPORTE: 6 veces\n",
      "SI COMPRO DULCES, ENTONCES COMPRO HUEVO\n",
      "CONFIANZA: 9.4% SOPORTE: 3 veces\n",
      "SI COMPRO DULCES, ENTONCES COMPRO PAN\n",
      "CONFIANZA: 0.0% SOPORTE: 0 veces\n",
      "SI COMPRO DULCES, ENTONCES COMPRO FRUTAS\n",
      "CONFIANZA: 9.4% SOPORTE: 3 veces\n"
     ]
    }
   ],
   "source": [
    "features = [\"LECHE\", \"HUEVO\", \"PAN\", \"FRUTAS\", \"DULCES\"]\n",
    "\n",
    "for premise in features:\n",
    "    # Contar cuántas veces ocurre la premisa\n",
    "    premise_count = dataset[ (dataset[premise] == 1) ].count()[0]\n",
    "    print(\"COMPRÓ {}: {} veces\".format(premise, premise_count))\n",
    "    for conclusion in features:\n",
    "        if premise == conclusion:\n",
    "            continue\n",
    "        print(\"SI COMPRO {}, ENTONCES COMPRO {}\".format(premise, conclusion))\n",
    "        # Contar cuántas veces ocurre el evento (la regla, la hipótesis) [soporte]\n",
    "        premise_to_conclusion_count = dataset[ (dataset[premise] == 1) & (dataset[conclusion] == 1) ].count()[0]\n",
    "\n",
    "        support = premise_to_conclusion_count\n",
    "        confidence = 100 * premise_to_conclusion_count / premise_count\n",
    "\n",
    "        print(\"CONFIANZA: {:.1f}% SOPORTE: {} veces\".format(confidence, support))\n"
   ],
   "metadata": {
    "collapsed": false,
    "ExecuteTime": {
     "start_time": "2023-04-25T10:50:04.073172Z",
     "end_time": "2023-04-25T10:50:04.102385Z"
    }
   }
  },
  {
   "cell_type": "code",
   "execution_count": 48,
   "outputs": [
    {
     "name": "stdout",
     "output_type": "stream",
     "text": [
      "Hola python 🐍\n",
      "   LECHE  HUEVO  PAN  FRUTAS  DULCES\n",
      "0      1      0    0       0       0\n",
      "1      0      0    0       1       0\n",
      "2      0      0    0       0       0\n",
      "3      0      0    0       1       0\n",
      "4      0      0    0       1       0\n"
     ]
    }
   ],
   "source": [
    "print(\"Hola python 🐍\")\n",
    "print(dataset[:5])"
   ],
   "metadata": {
    "collapsed": false,
    "ExecuteTime": {
     "start_time": "2023-04-25T10:57:26.588562Z",
     "end_time": "2023-04-25T10:57:26.598135Z"
    }
   }
  },
  {
   "cell_type": "code",
   "execution_count": 49,
   "outputs": [
    {
     "data": {
      "text/plain": "'Hola'"
     },
     "execution_count": 49,
     "metadata": {},
     "output_type": "execute_result"
    }
   ],
   "source": [
    "\"Hola\""
   ],
   "metadata": {
    "collapsed": false,
    "ExecuteTime": {
     "start_time": "2023-04-25T10:57:44.052479Z",
     "end_time": "2023-04-25T10:57:44.072922Z"
    }
   }
  },
  {
   "cell_type": "code",
   "execution_count": 50,
   "outputs": [
    {
     "data": {
      "text/plain": "'Hola Pepe, tienes 25 años'"
     },
     "execution_count": 50,
     "metadata": {},
     "output_type": "execute_result"
    }
   ],
   "source": [
    "\"Hola {}, tienes {} años\".format(\"Pepe\", 25)"
   ],
   "metadata": {
    "collapsed": false,
    "ExecuteTime": {
     "start_time": "2023-04-25T10:58:09.603844Z",
     "end_time": "2023-04-25T10:58:09.617040Z"
    }
   }
  },
  {
   "cell_type": "code",
   "execution_count": 51,
   "outputs": [
    {
     "name": "stdout",
     "output_type": "stream",
     "text": [
      "Confianza 67.52345%\n"
     ]
    }
   ],
   "source": [
    "print(\"Confianza {}%\".format(67.52345))"
   ],
   "metadata": {
    "collapsed": false,
    "ExecuteTime": {
     "start_time": "2023-04-25T10:58:35.416437Z",
     "end_time": "2023-04-25T10:58:35.438630Z"
    }
   }
  },
  {
   "cell_type": "code",
   "execution_count": 52,
   "outputs": [
    {
     "name": "stdout",
     "output_type": "stream",
     "text": [
      "Confianza 67.5%\n"
     ]
    }
   ],
   "source": [
    "print(\"Confianza {:.1f}%\".format(67.52345))"
   ],
   "metadata": {
    "collapsed": false,
    "ExecuteTime": {
     "start_time": "2023-04-25T10:59:20.065894Z",
     "end_time": "2023-04-25T10:59:20.099616Z"
    }
   }
  },
  {
   "cell_type": "code",
   "execution_count": 55,
   "outputs": [
    {
     "data": {
      "text/plain": "  PREMISE CONCLUSION TOTAL  CONFIDENCE SUPPORT\n0   LECHE      HUEVO    31    0.483871      15\n0   LECHE        PAN    31    0.032258       1\n0   LECHE     FRUTAS    31    0.870968      27\n0   LECHE     DULCES    31    0.193548       6\n0   HUEVO      LECHE    15    1.000000      15\n0   HUEVO        PAN    15    0.066667       1\n0   HUEVO     FRUTAS    15    1.000000      15\n0   HUEVO     DULCES    15    0.200000       3\n0     PAN      LECHE     1    1.000000       1\n0     PAN      HUEVO     1    1.000000       1\n0     PAN     FRUTAS     1    1.000000       1\n0     PAN     DULCES     1    0.000000       0\n0  FRUTAS      LECHE    68    0.397059      27\n0  FRUTAS      HUEVO    68    0.220588      15\n0  FRUTAS        PAN    68    0.014706       1\n0  FRUTAS     DULCES    68    0.044118       3\n0  DULCES      LECHE    32    0.187500       6\n0  DULCES      HUEVO    32    0.093750       3\n0  DULCES        PAN    32    0.000000       0\n0  DULCES     FRUTAS    32    0.093750       3",
      "text/html": "<div>\n<style scoped>\n    .dataframe tbody tr th:only-of-type {\n        vertical-align: middle;\n    }\n\n    .dataframe tbody tr th {\n        vertical-align: top;\n    }\n\n    .dataframe thead th {\n        text-align: right;\n    }\n</style>\n<table border=\"1\" class=\"dataframe\">\n  <thead>\n    <tr style=\"text-align: right;\">\n      <th></th>\n      <th>PREMISE</th>\n      <th>CONCLUSION</th>\n      <th>TOTAL</th>\n      <th>CONFIDENCE</th>\n      <th>SUPPORT</th>\n    </tr>\n  </thead>\n  <tbody>\n    <tr>\n      <th>0</th>\n      <td>LECHE</td>\n      <td>HUEVO</td>\n      <td>31</td>\n      <td>0.483871</td>\n      <td>15</td>\n    </tr>\n    <tr>\n      <th>0</th>\n      <td>LECHE</td>\n      <td>PAN</td>\n      <td>31</td>\n      <td>0.032258</td>\n      <td>1</td>\n    </tr>\n    <tr>\n      <th>0</th>\n      <td>LECHE</td>\n      <td>FRUTAS</td>\n      <td>31</td>\n      <td>0.870968</td>\n      <td>27</td>\n    </tr>\n    <tr>\n      <th>0</th>\n      <td>LECHE</td>\n      <td>DULCES</td>\n      <td>31</td>\n      <td>0.193548</td>\n      <td>6</td>\n    </tr>\n    <tr>\n      <th>0</th>\n      <td>HUEVO</td>\n      <td>LECHE</td>\n      <td>15</td>\n      <td>1.000000</td>\n      <td>15</td>\n    </tr>\n    <tr>\n      <th>0</th>\n      <td>HUEVO</td>\n      <td>PAN</td>\n      <td>15</td>\n      <td>0.066667</td>\n      <td>1</td>\n    </tr>\n    <tr>\n      <th>0</th>\n      <td>HUEVO</td>\n      <td>FRUTAS</td>\n      <td>15</td>\n      <td>1.000000</td>\n      <td>15</td>\n    </tr>\n    <tr>\n      <th>0</th>\n      <td>HUEVO</td>\n      <td>DULCES</td>\n      <td>15</td>\n      <td>0.200000</td>\n      <td>3</td>\n    </tr>\n    <tr>\n      <th>0</th>\n      <td>PAN</td>\n      <td>LECHE</td>\n      <td>1</td>\n      <td>1.000000</td>\n      <td>1</td>\n    </tr>\n    <tr>\n      <th>0</th>\n      <td>PAN</td>\n      <td>HUEVO</td>\n      <td>1</td>\n      <td>1.000000</td>\n      <td>1</td>\n    </tr>\n    <tr>\n      <th>0</th>\n      <td>PAN</td>\n      <td>FRUTAS</td>\n      <td>1</td>\n      <td>1.000000</td>\n      <td>1</td>\n    </tr>\n    <tr>\n      <th>0</th>\n      <td>PAN</td>\n      <td>DULCES</td>\n      <td>1</td>\n      <td>0.000000</td>\n      <td>0</td>\n    </tr>\n    <tr>\n      <th>0</th>\n      <td>FRUTAS</td>\n      <td>LECHE</td>\n      <td>68</td>\n      <td>0.397059</td>\n      <td>27</td>\n    </tr>\n    <tr>\n      <th>0</th>\n      <td>FRUTAS</td>\n      <td>HUEVO</td>\n      <td>68</td>\n      <td>0.220588</td>\n      <td>15</td>\n    </tr>\n    <tr>\n      <th>0</th>\n      <td>FRUTAS</td>\n      <td>PAN</td>\n      <td>68</td>\n      <td>0.014706</td>\n      <td>1</td>\n    </tr>\n    <tr>\n      <th>0</th>\n      <td>FRUTAS</td>\n      <td>DULCES</td>\n      <td>68</td>\n      <td>0.044118</td>\n      <td>3</td>\n    </tr>\n    <tr>\n      <th>0</th>\n      <td>DULCES</td>\n      <td>LECHE</td>\n      <td>32</td>\n      <td>0.187500</td>\n      <td>6</td>\n    </tr>\n    <tr>\n      <th>0</th>\n      <td>DULCES</td>\n      <td>HUEVO</td>\n      <td>32</td>\n      <td>0.093750</td>\n      <td>3</td>\n    </tr>\n    <tr>\n      <th>0</th>\n      <td>DULCES</td>\n      <td>PAN</td>\n      <td>32</td>\n      <td>0.000000</td>\n      <td>0</td>\n    </tr>\n    <tr>\n      <th>0</th>\n      <td>DULCES</td>\n      <td>FRUTAS</td>\n      <td>32</td>\n      <td>0.093750</td>\n      <td>3</td>\n    </tr>\n  </tbody>\n</table>\n</div>"
     },
     "execution_count": 55,
     "metadata": {},
     "output_type": "execute_result"
    }
   ],
   "source": [
    "# Análisis de Afinidad (Algoritmo Apriori)\n",
    "# Se basa en encontrar la confianza y soporte de premisas y conclusiones\n",
    "\n",
    "results = pd.DataFrame(columns=[\"PREMISE\", \"CONCLUSION\", \"TOTAL\", \"CONFIDENCE\", \"SUPPORT\"])\n",
    "\n",
    "features = [\"LECHE\", \"HUEVO\", \"PAN\", \"FRUTAS\", \"DULCES\"]\n",
    "\n",
    "for premise in features:\n",
    "    total = dataset[ (dataset[premise] == 1) ].count()[0]\n",
    "    for conclusion in features:\n",
    "        if premise == conclusion:\n",
    "            continue\n",
    "        support = dataset[ (dataset[premise] == 1) & (dataset[conclusion] == 1) ].count()[0]\n",
    "        confidence = support / total\n",
    "\n",
    "        results = pd.concat([results, pd.DataFrame({\n",
    "            \"PREMISE\": [premise],\n",
    "            \"CONCLUSION\": [conclusion],\n",
    "            \"TOTAL\": [total],\n",
    "            \"SUPPORT\": [support],\n",
    "            \"CONFIDENCE\": [confidence]\n",
    "        })])\n",
    "\n",
    "results"
   ],
   "metadata": {
    "collapsed": false,
    "ExecuteTime": {
     "start_time": "2023-04-25T11:05:52.790017Z",
     "end_time": "2023-04-25T11:05:52.828566Z"
    }
   }
  },
  {
   "cell_type": "markdown",
   "source": [
    "## Ejercicio E201 - Encontrar la confianza y soporte que respalde la siguiente hipótesis planteada\n",
    "\n",
    "    SI COMPRO LECHE Y COMPRO DULCES, ENTONCES NO COMPRÓ HUEVO\n",
    "\n",
    "1. Contar cuántas veces ocurre la premisa (comprar leche y dulces) `-> total`\n",
    "2. Contar cuántas veces ocurre la premisa y la conclusión (comprar leche y dulces y no comprar huevo) `-> soporte`\n",
    "3. Calcular la confianza como el soporte entre el total `-> confianza`"
   ],
   "metadata": {
    "collapsed": false
   }
  },
  {
   "cell_type": "code",
   "execution_count": 58,
   "outputs": [
    {
     "data": {
      "text/plain": "6"
     },
     "execution_count": 58,
     "metadata": {},
     "output_type": "execute_result"
    }
   ],
   "source": [
    "total = dataset[ (dataset[\"LECHE\"] == 1) & (dataset[\"DULCES\"] == 1) ].count()[0]\n",
    "\n",
    "total"
   ],
   "metadata": {
    "collapsed": false,
    "ExecuteTime": {
     "start_time": "2023-04-25T11:36:08.918591Z",
     "end_time": "2023-04-25T11:36:08.936237Z"
    }
   }
  },
  {
   "cell_type": "code",
   "execution_count": 61,
   "outputs": [
    {
     "data": {
      "text/plain": "3"
     },
     "execution_count": 61,
     "metadata": {},
     "output_type": "execute_result"
    }
   ],
   "source": [
    "support = dataset[ (dataset[\"LECHE\"] == 1) & (dataset[\"DULCES\"] == 1) & (dataset[\"HUEVO\"] == 0) ].count()[0]\n",
    "\n",
    "support"
   ],
   "metadata": {
    "collapsed": false,
    "ExecuteTime": {
     "start_time": "2023-04-25T11:37:24.229320Z",
     "end_time": "2023-04-25T11:37:24.243019Z"
    }
   }
  },
  {
   "cell_type": "code",
   "execution_count": 64,
   "outputs": [
    {
     "data": {
      "text/plain": "50.0"
     },
     "execution_count": 64,
     "metadata": {},
     "output_type": "execute_result"
    }
   ],
   "source": [
    "confidence = support / total\n",
    "\n",
    "confidence * 100"
   ],
   "metadata": {
    "collapsed": false,
    "ExecuteTime": {
     "start_time": "2023-04-25T11:37:44.005285Z",
     "end_time": "2023-04-25T11:37:44.026131Z"
    }
   }
  },
  {
   "cell_type": "markdown",
   "source": [
    "## Conclusiones\n",
    "\n",
    "El análisis de afinidad se basa en encontrar la confianza y soporte que respalden una hipótesis.\n",
    "\n",
    "La hipótesis se conforma de una premisa y una conclusión.\n",
    "\n",
    "La premisa puede contener una o más sentencias lógicas que formarán un espacio. Este espacio representa cuántas veces ocurre un evento (conteo `total`). En otras palabras contar cuántas veces la premisa es verdadera.\n",
    "\n",
    "Las conclusiones un subespacio del espacio dónde ocurre la premisa, es decir, si la premisa ocurre, entonces la conclusión lo hará. El número de veces que ocurre este evento se considera el soporte (conteo `support`). En otras palabras contar cuántas conclusiones son ciertas, dado que la premisa es cierta.\n",
    "\n",
    "La confianza es la razón entre el número veces que ocurre la conclusión, dado que ocurrió la premisa (división `confidence`). En otras palabras, dividir el soporte entre el total.\n",
    "\n",
    "> Ejemplo de una base de datos sobre seguimientos de proyectos\n",
    "\n",
    "* LÍDER ID - Número único (identificador)\n",
    "* TAMAÑO PROYECTO - Número (funcionalidades)\n",
    "* DURACIÓN - Número (días desde asignación a finalización)\n",
    "* METODOLOGÍA - Categoría (ágil, cascada, etc)\n",
    "* TIPO PROYECTO - Categoría (desarrollo nuevo, mantenimiento, interno, etc)\n",
    "* ESFUERZO - Número (horas hombre)\n",
    "* LENGUAJE - Categoría (c#, java, etc)\n",
    "* TIPO DE ARQUITECTURA - Categoría (capas, cliente-servidor, etc)\n",
    "* TIEMPO ESPERA - Número (días desde inicio a fin)\n",
    "\n",
    "    SI LÍDER TIENE MÁS 3 PROYECTOS, ENTONCES ESFUERZO MAYOR A PROMEDIO\n",
    "\n",
    "Conteo manual\n",
    "\n",
    "    total = 0\n",
    "    soporte = 0\n",
    "\n",
    "    for row in dataset.items():\n",
    "        lider_id = row[\"LIDER\"]\n",
    "        esfuerzo = row[\"ESFUERZO\"]\n",
    "\n",
    "        num_proyectos = dataset[ (dataset[\"LIDER\"] == lider_id) ].count()[0]\n",
    "        esfuerzo_promedio = dataset[\"ESUERZO\"].mean()\n",
    "\n",
    "        if num_proyectos >= 3:\n",
    "            total += 1\n",
    "\n",
    "            if esfuerzo >= esfuerzo_promedio:\n",
    "                soporte += 1\n",
    "\n",
    "    confianza = 100 * soporte / total\n",
    "\n",
    "    print(\"SI el líder tiene más de 3 proyectos, entonces el esfuerzo será mayor al promedio\")\n",
    "    print(\"TOTAL: {} CONFIANZA: {:.1f}% SOPORTE: {}\".format(total, confianza, soporte))\n",
    "\n",
    "Otras hipótesis:\n",
    "\n",
    "* SI LENGUAJE ES C#, ENTONCES ESFUERZO_PROMEDIO(C#) > ESFUERZO_PROMEDIO(JAVA)\n",
    "* SI LENGUAJE ES JAVA, ENTONCES ESFUERZO_PROMEDIO(JAVA) > ESFUERZO_PROMEDIO(C++)\n",
    "* SI LENGUAJE ES PYTHON, ENTONCES ESFUERZO_PROMEDIO(PYTHON) > ESFUERZO_PROMEDIO(C#)\n",
    "* SI LENGUAJE ES C#, ENTONCES ESFUERZO_PROMEDIO(C#) > ESFUERZO_PROMEDIO(PYTHON)\n",
    "* SI LENGUAJE ES C++, ENTONCES ESFUERZO_PROMEDIO(C#) > ESFUERZO_PROMEDIO(JAVA)\n",
    "* SI LENGUAJE ES C#, ENTONCES TIMPO_ESPERA > Q3_TIEMPO_ESPERA (mayor al 75% de espera de los proyectos)"
   ],
   "metadata": {
    "collapsed": false
   }
  }
 ],
 "metadata": {
  "kernelspec": {
   "display_name": "Python 3",
   "language": "python",
   "name": "python3"
  },
  "language_info": {
   "codemirror_mode": {
    "name": "ipython",
    "version": 2
   },
   "file_extension": ".py",
   "mimetype": "text/x-python",
   "name": "python",
   "nbconvert_exporter": "python",
   "pygments_lexer": "ipython2",
   "version": "2.7.6"
  }
 },
 "nbformat": 4,
 "nbformat_minor": 0
}
