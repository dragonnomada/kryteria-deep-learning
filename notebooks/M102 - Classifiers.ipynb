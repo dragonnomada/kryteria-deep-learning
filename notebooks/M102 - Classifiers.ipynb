{
 "cells": [
  {
   "cell_type": "markdown",
   "source": [
    "# M102 - ¿Qué es la clasificación?\n",
    "\n",
    "Por [Alan Badillo Salas](mailto:alan@nomadacode.com)\n",
    "\n",
    "La **minería de datos** tiene el objetivo de enseñarle a la máquina a tomar decisiones a partir de los datos. Esta se compone de un conjunto de algorimos que involucran la estadística, ingeniería de datos, optimización y cómputo científico (ciencia de datos, aprendizaje automático, aprendizaje profundo, etc).\n",
    "\n",
    "Un conjuntos de datos (*datasets*) se compone de muestras (*samples*) a las que se les pueden extraer características (*features*).\n",
    "\n",
    "El algorimo general de la minería de datos involucra los siguientes pasos:\n",
    "\n",
    "1. Construir un conjunto de datos (*dataset*) describiendo parte del mundo real. Aquí disponemos de muestras, que se refieren a las observaciones que realizamos como un libro, una persona, un animal, etc. También extraemos características, que se refiere a mediciones sobre las muestras, por ejemplo, el tamaño, la frecuencia de una palabra específica, el número de patas de un animal, estas se conocen generalmente como variables, columnas, atributos, covariantes, etc.\n",
    "2. Entrenar al algoritmo basado en el conjunto de datos, ajustando los parámetros del algoritmo, para permitirle al algoritmo saber cómo tomar decisiones a partir de los datos.\n",
    "\n",
    "Veamos un ejemplo de cómo nos gustaría que la máquina sea capaz de categorizar personas dándole algunas muestras de personas de estatura bajas y altas.\n",
    "\n",
    "| Persona | Estatura | Etiqueta |\n",
    "|---------|----------|----------|\n",
    "| 1       | 155cm    | Baja     |\n",
    "| 2       | 155cm    | Baja     |\n",
    "| 3       | 175cm    | Alta     |\n",
    "| 4       | 185cm    | Alta     |\n",
    "\n"
   ],
   "metadata": {
    "collapsed": false
   }
  },
  {
   "cell_type": "markdown",
   "source": [
    "Generador de un conjunto de datos sobre compras de productos"
   ],
   "metadata": {
    "collapsed": false
   }
  },
  {
   "cell_type": "code",
   "execution_count": 3,
   "outputs": [
    {
     "name": "stdout",
     "output_type": "stream",
     "text": [
      "[[0, 0, 0, 1, 0], [0, 0, 0, 1, 0], [0, 0, 0, 1, 0], [0, 0, 0, 1, 0], [0, 1, 0, 0, 0]]\n"
     ]
    }
   ],
   "source": [
    "import random\n",
    "\n",
    "features = [\"Leche\", \"Queso\", \"Pan\", \"Manzana\", \"Huevo\"]\n",
    "\n",
    "dataset = []\n",
    "\n",
    "n_samples = 100\n",
    "n_features = len(features) # 5\n",
    "\n",
    "for i in range(n_samples):\n",
    "\n",
    "    sample = [0, 0, 0, 0, 0]\n",
    "\n",
    "    dataset.append(sample)\n",
    "\n",
    "    # Probabilidad de comprar Leche\n",
    "    if random.random() < 0.25:\n",
    "        sample[0] = 1\n",
    "\n",
    "        # Dado que compró Leche\n",
    "\n",
    "        # Probabilidad de comprar Queso\n",
    "        if random.random() < 0.5:\n",
    "            sample[1] = 1\n",
    "\n",
    "        # Probabilidad de comprar Pan\n",
    "        if random.random() < 0.3:\n",
    "            sample[2] = 1\n",
    "\n",
    "            # Dado que compró Pan:\n",
    "\n",
    "            # Probabilidad de comprar Huevo\n",
    "            if random.random() < 0.6:\n",
    "                sample[4] = 1\n",
    "        else:\n",
    "\n",
    "            # Dado que no compró Pan\n",
    "\n",
    "            # Probabilidad de comprar Manzana\n",
    "            if random.random() < 0.8:\n",
    "                sample[3] = 1\n",
    "    else:\n",
    "\n",
    "        # Dado que no compró Leche\n",
    "\n",
    "        # Probabilidad de comprar Queso\n",
    "        if random.random() < 0.2:\n",
    "            sample[1] = 1\n",
    "\n",
    "        # Probabilidad de comprar Pan\n",
    "        if random.random() < 0.1:\n",
    "            sample[2] = 1\n",
    "\n",
    "            # Dado que compró Pan:\n",
    "\n",
    "            # Probabilidad de comprar Huevo\n",
    "            if random.random() < 0.6:\n",
    "                sample[4] = 1\n",
    "        else:\n",
    "\n",
    "            # Dado que no compró Pan\n",
    "\n",
    "            # Probabilidad de comprar Manzana\n",
    "            if random.random() < 0.8:\n",
    "                sample[3] = 1\n",
    "\n",
    "print(dataset[:5])"
   ],
   "metadata": {
    "collapsed": false,
    "ExecuteTime": {
     "start_time": "2023-04-23T21:35:01.911080Z",
     "end_time": "2023-04-23T21:35:01.925812Z"
    }
   }
  },
  {
   "cell_type": "code",
   "execution_count": 15,
   "outputs": [
    {
     "name": "stdout",
     "output_type": "stream",
     "text": [
      "Compró: Manzana \n",
      "Compró: <NADA>\n",
      "Compró: Leche Queso Manzana \n",
      "Compró: Pan Huevo \n",
      "Compró: Manzana \n"
     ]
    }
   ],
   "source": [
    "def print_sample(sample):\n",
    "    print(\"Compró\", end=\": \")\n",
    "    count = 0\n",
    "    for index_sample in range(n_features):\n",
    "        label = features[index_sample]\n",
    "        if sample[index_sample] == 1:\n",
    "            print(label, end=\" \")\n",
    "            count += 1\n",
    "    if count == 0:\n",
    "        print(\"<NADA>\", end=\"\")\n",
    "    print()\n",
    "\n",
    "def print_dataset(dataset):\n",
    "    for sample in dataset:\n",
    "        print_sample(sample)\n",
    "\n",
    "print_dataset(dataset[50:55])"
   ],
   "metadata": {
    "collapsed": false,
    "ExecuteTime": {
     "start_time": "2023-04-23T21:45:11.166676Z",
     "end_time": "2023-04-23T21:45:11.177853Z"
    }
   }
  },
  {
   "cell_type": "code",
   "execution_count": 23,
   "outputs": [
    {
     "data": {
      "text/plain": "(defaultdict(int, {}), defaultdict(int, {}))"
     },
     "execution_count": 23,
     "metadata": {},
     "output_type": "execute_result"
    }
   ],
   "source": [
    "from collections import defaultdict\n",
    "\n",
    "num_ocurrences = defaultdict(int)\n",
    "valid_rules = defaultdict(int)\n",
    "\n",
    "num_ocurrences, valid_rules"
   ],
   "metadata": {
    "collapsed": false,
    "ExecuteTime": {
     "start_time": "2023-04-23T23:04:13.457953Z",
     "end_time": "2023-04-23T23:04:13.476699Z"
    }
   }
  },
  {
   "cell_type": "code",
   "execution_count": 24,
   "outputs": [
    {
     "data": {
      "text/plain": "(defaultdict(int, {3: 58, 1: 29, 0: 28, 2: 22, 4: 14}),\n defaultdict(int,\n             {(0, 1): 18,\n              (0, 3): 15,\n              (1, 0): 18,\n              (1, 3): 16,\n              (3, 0): 15,\n              (3, 1): 16,\n              (2, 4): 14,\n              (4, 2): 14,\n              (1, 2): 11,\n              (2, 1): 11,\n              (0, 2): 12,\n              (2, 0): 12,\n              (0, 4): 8,\n              (4, 0): 8,\n              (1, 4): 7,\n              (4, 1): 7}))"
     },
     "execution_count": 24,
     "metadata": {},
     "output_type": "execute_result"
    }
   ],
   "source": [
    "for sample in dataset:\n",
    "    for premise_index in range(n_features):\n",
    "        if sample[premise_index] == 1:\n",
    "            num_ocurrences[premise_index] += 1\n",
    "            for conclusion_index in range(n_features):\n",
    "                if premise_index == conclusion_index:\n",
    "                    continue\n",
    "                if sample[conclusion_index] == 1:\n",
    "                    valid_rules[(premise_index, conclusion_index)] += 1\n",
    "\n",
    "num_ocurrences, valid_rules"
   ],
   "metadata": {
    "collapsed": false,
    "ExecuteTime": {
     "start_time": "2023-04-23T23:05:28.476365Z",
     "end_time": "2023-04-23T23:05:28.490467Z"
    }
   }
  },
  {
   "cell_type": "markdown",
   "source": [],
   "metadata": {
    "collapsed": false
   }
  },
  {
   "cell_type": "code",
   "execution_count": 31,
   "outputs": [
    {
     "name": "stdout",
     "output_type": "stream",
     "text": [
      "COMPRÓ Leche (28 veces)\n",
      "COMPRÓ Queso (29 veces)\n",
      "COMPRÓ Pan (22 veces)\n",
      "COMPRÓ Manzana (58 veces)\n",
      "COMPRÓ Huevo (14 veces)\n"
     ]
    }
   ],
   "source": [
    "from operator import itemgetter\n",
    "\n",
    "for premise_index, count in sorted(num_ocurrences.items(), key=itemgetter(0)):\n",
    "    print(\"COMPRÓ {} ({} veces)\".format(features[premise_index], count))"
   ],
   "metadata": {
    "collapsed": false,
    "ExecuteTime": {
     "start_time": "2023-04-23T23:09:47.477276Z",
     "end_time": "2023-04-23T23:09:47.497256Z"
    }
   }
  },
  {
   "cell_type": "code",
   "execution_count": 41,
   "outputs": [
    {
     "name": "stdout",
     "output_type": "stream",
     "text": [
      "SI Leche -> Queso (28 veces)\n",
      "CONFIANZA: 64.3%\n",
      "SOPORTE: 18\n",
      "SI Queso -> Leche (29 veces)\n",
      "CONFIANZA: 62.1%\n",
      "SOPORTE: 18\n",
      "SI Queso -> Manzana (29 veces)\n",
      "CONFIANZA: 55.2%\n",
      "SOPORTE: 16\n",
      "SI Manzana -> Queso (58 veces)\n",
      "CONFIANZA: 27.6%\n",
      "SOPORTE: 16\n",
      "SI Leche -> Manzana (28 veces)\n",
      "CONFIANZA: 53.6%\n",
      "SOPORTE: 15\n",
      "SI Manzana -> Leche (58 veces)\n",
      "CONFIANZA: 25.9%\n",
      "SOPORTE: 15\n",
      "SI Pan -> Huevo (22 veces)\n",
      "CONFIANZA: 63.6%\n",
      "SOPORTE: 14\n",
      "SI Huevo -> Pan (14 veces)\n",
      "CONFIANZA: 100.0%\n",
      "SOPORTE: 14\n",
      "SI Leche -> Pan (28 veces)\n",
      "CONFIANZA: 42.9%\n",
      "SOPORTE: 12\n",
      "SI Pan -> Leche (22 veces)\n",
      "CONFIANZA: 54.5%\n",
      "SOPORTE: 12\n",
      "SI Queso -> Pan (29 veces)\n",
      "CONFIANZA: 37.9%\n",
      "SOPORTE: 11\n",
      "SI Pan -> Queso (22 veces)\n",
      "CONFIANZA: 50.0%\n",
      "SOPORTE: 11\n",
      "SI Leche -> Huevo (28 veces)\n",
      "CONFIANZA: 28.6%\n",
      "SOPORTE: 8\n",
      "SI Huevo -> Leche (14 veces)\n",
      "CONFIANZA: 57.1%\n",
      "SOPORTE: 8\n",
      "SI Queso -> Huevo (29 veces)\n",
      "CONFIANZA: 24.1%\n",
      "SOPORTE: 7\n",
      "SI Huevo -> Queso (14 veces)\n",
      "CONFIANZA: 50.0%\n",
      "SOPORTE: 7\n"
     ]
    }
   ],
   "source": [
    "for (premise_index, conclusion_index), count in sorted(valid_rules.items(), key=itemgetter(1), reverse=True):\n",
    "    confidence = count / num_ocurrences[premise_index]\n",
    "    print(\"SI {} -> {} ({} veces)\".format(features[premise_index], features[conclusion_index], num_ocurrences[premise_index]))\n",
    "    print(\"CONFIANZA: {:.1f}%\".format(confidence * 100))\n",
    "    print(\"SOPORTE: {}\".format(count))"
   ],
   "metadata": {
    "collapsed": false,
    "ExecuteTime": {
     "start_time": "2023-04-23T23:15:51.486695Z",
     "end_time": "2023-04-23T23:15:51.504556Z"
    }
   }
  }
 ],
 "metadata": {
  "kernelspec": {
   "display_name": "Python 3",
   "language": "python",
   "name": "python3"
  },
  "language_info": {
   "codemirror_mode": {
    "name": "ipython",
    "version": 2
   },
   "file_extension": ".py",
   "mimetype": "text/x-python",
   "name": "python",
   "nbconvert_exporter": "python",
   "pygments_lexer": "ipython2",
   "version": "2.7.6"
  }
 },
 "nbformat": 4,
 "nbformat_minor": 0
}
