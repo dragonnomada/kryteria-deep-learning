{
 "cells": [
  {
   "cell_type": "markdown",
   "source": [
    "# Distribuciones de datos\n",
    "\n",
    "La distribución de una variable (eje de datos), explica cómo se propagan los valores en el espacio. Para un eje, por ejemplo, la distribución podría explicar dónde están centrados (media de los datos) y cuál es su varianza (o desviación estándar). Con esta información podríamos simular datos similares, distribuidos de forma semejante.\n",
    "\n",
    "Por ejemplo, si un tornillo fabricado tiene en promedio 4 mm de alto y 2 mm de ancho. Entonces podemos recrear datos de medidas de tornillos, si estos estuvieran bajo cierta distribución.\n",
    "\n",
    "Las dos distribuciones más comúnes son:\n",
    "\n",
    "* Uniforme - Significa que cada medida tiene la misma probabilidad de ocurrir, por ejemplo, [1, 1, 2, 2, 3, 3]\n",
    "* Normal - Significa que las medidas se aproximan a un centro (un valor medio) y es muy poco probable que se alejen de ese centro hacia la izquierda o derecha como en una campana (la campana de Gauss), por ejemplo, [4.0, 4.0, 4.1, 3.9, 4.05, 4.07, 3.98, 3.93, 4.0]"
   ],
   "metadata": {
    "collapsed": false
   }
  },
  {
   "cell_type": "code",
   "execution_count": 1,
   "metadata": {
    "collapsed": true,
    "ExecuteTime": {
     "start_time": "2023-04-28T09:13:07.257823Z",
     "end_time": "2023-04-28T09:13:13.491070Z"
    }
   },
   "outputs": [
    {
     "data": {
      "text/plain": "   ID_PROYECTO EMPRESA  PETICION  PETICION_1  PET_EMPRESA   \n0            1  México    8318.0        8318   8318México  \\\n1            2  México    9619.0        9619   9619México   \n2            3  México   10438.0       10438  10438México   \n3            4  México   10522.0       10522  10522México   \n4            5  México   10528.0       10528  10528México   \n\n                                              NOMBRE  CFP  EFICIENCIA   \n0  Modificación a la utileria de generación de pa...   12         NaN  \\\n1              Modificacion al programa Vbncarga.exe    2         NaN   \n2  Permisos para Cambios de puntos de Sembrado- P...   11         NaN   \n3             Corrección del informe TabuladoCredito   11         NaN   \n4  Corrección al Tabulado de Carteras y Hojas men...    4         NaN   \n\n          PDR  ESFUERZO_TOTAL_P  ...  PDR_S  PDR_M_1  PDR_M_2 PDR_L LEAD_TIME   \n0   33.708333             404.5  ...    NaN      NaN      NaN   NaN     914.0  \\\n1  147.500000             295.0  ...    NaN      NaN      NaN   NaN     609.0   \n2   51.375455            1019.0  ...    NaN      NaN      NaN   NaN     519.0   \n3   47.727273             525.0  ...    NaN      NaN      NaN   NaN     493.0   \n4   26.290000             213.0  ...    NaN      NaN      NaN   NaN     557.0   \n\n   F1_GESTIONDELA_DEMANDA F2_ELICITACION F3_CONTRUCCION  F4_FINAL  TAMANO  \n0                   825.0            8.0           42.0      35.0   10-29  \n1                   584.0            7.0           14.0       1.0     2-9  \n2                   461.0            2.0           37.0       1.0   10-29  \n3                   455.0            9.0           27.0       1.0   10-29  \n4                   520.0            5.0           30.0       0.0     2-9  \n\n[5 rows x 138 columns]",
      "text/html": "<div>\n<style scoped>\n    .dataframe tbody tr th:only-of-type {\n        vertical-align: middle;\n    }\n\n    .dataframe tbody tr th {\n        vertical-align: top;\n    }\n\n    .dataframe thead th {\n        text-align: right;\n    }\n</style>\n<table border=\"1\" class=\"dataframe\">\n  <thead>\n    <tr style=\"text-align: right;\">\n      <th></th>\n      <th>ID_PROYECTO</th>\n      <th>EMPRESA</th>\n      <th>PETICION</th>\n      <th>PETICION_1</th>\n      <th>PET_EMPRESA</th>\n      <th>NOMBRE</th>\n      <th>CFP</th>\n      <th>EFICIENCIA</th>\n      <th>PDR</th>\n      <th>ESFUERZO_TOTAL_P</th>\n      <th>...</th>\n      <th>PDR_S</th>\n      <th>PDR_M_1</th>\n      <th>PDR_M_2</th>\n      <th>PDR_L</th>\n      <th>LEAD_TIME</th>\n      <th>F1_GESTIONDELA_DEMANDA</th>\n      <th>F2_ELICITACION</th>\n      <th>F3_CONTRUCCION</th>\n      <th>F4_FINAL</th>\n      <th>TAMANO</th>\n    </tr>\n  </thead>\n  <tbody>\n    <tr>\n      <th>0</th>\n      <td>1</td>\n      <td>México</td>\n      <td>8318.0</td>\n      <td>8318</td>\n      <td>8318México</td>\n      <td>Modificación a la utileria de generación de pa...</td>\n      <td>12</td>\n      <td>NaN</td>\n      <td>33.708333</td>\n      <td>404.5</td>\n      <td>...</td>\n      <td>NaN</td>\n      <td>NaN</td>\n      <td>NaN</td>\n      <td>NaN</td>\n      <td>914.0</td>\n      <td>825.0</td>\n      <td>8.0</td>\n      <td>42.0</td>\n      <td>35.0</td>\n      <td>10-29</td>\n    </tr>\n    <tr>\n      <th>1</th>\n      <td>2</td>\n      <td>México</td>\n      <td>9619.0</td>\n      <td>9619</td>\n      <td>9619México</td>\n      <td>Modificacion al programa Vbncarga.exe</td>\n      <td>2</td>\n      <td>NaN</td>\n      <td>147.500000</td>\n      <td>295.0</td>\n      <td>...</td>\n      <td>NaN</td>\n      <td>NaN</td>\n      <td>NaN</td>\n      <td>NaN</td>\n      <td>609.0</td>\n      <td>584.0</td>\n      <td>7.0</td>\n      <td>14.0</td>\n      <td>1.0</td>\n      <td>2-9</td>\n    </tr>\n    <tr>\n      <th>2</th>\n      <td>3</td>\n      <td>México</td>\n      <td>10438.0</td>\n      <td>10438</td>\n      <td>10438México</td>\n      <td>Permisos para Cambios de puntos de Sembrado- P...</td>\n      <td>11</td>\n      <td>NaN</td>\n      <td>51.375455</td>\n      <td>1019.0</td>\n      <td>...</td>\n      <td>NaN</td>\n      <td>NaN</td>\n      <td>NaN</td>\n      <td>NaN</td>\n      <td>519.0</td>\n      <td>461.0</td>\n      <td>2.0</td>\n      <td>37.0</td>\n      <td>1.0</td>\n      <td>10-29</td>\n    </tr>\n    <tr>\n      <th>3</th>\n      <td>4</td>\n      <td>México</td>\n      <td>10522.0</td>\n      <td>10522</td>\n      <td>10522México</td>\n      <td>Corrección del informe TabuladoCredito</td>\n      <td>11</td>\n      <td>NaN</td>\n      <td>47.727273</td>\n      <td>525.0</td>\n      <td>...</td>\n      <td>NaN</td>\n      <td>NaN</td>\n      <td>NaN</td>\n      <td>NaN</td>\n      <td>493.0</td>\n      <td>455.0</td>\n      <td>9.0</td>\n      <td>27.0</td>\n      <td>1.0</td>\n      <td>10-29</td>\n    </tr>\n    <tr>\n      <th>4</th>\n      <td>5</td>\n      <td>México</td>\n      <td>10528.0</td>\n      <td>10528</td>\n      <td>10528México</td>\n      <td>Corrección al Tabulado de Carteras y Hojas men...</td>\n      <td>4</td>\n      <td>NaN</td>\n      <td>26.290000</td>\n      <td>213.0</td>\n      <td>...</td>\n      <td>NaN</td>\n      <td>NaN</td>\n      <td>NaN</td>\n      <td>NaN</td>\n      <td>557.0</td>\n      <td>520.0</td>\n      <td>5.0</td>\n      <td>30.0</td>\n      <td>0.0</td>\n      <td>2-9</td>\n    </tr>\n  </tbody>\n</table>\n<p>5 rows × 138 columns</p>\n</div>"
     },
     "execution_count": 1,
     "metadata": {},
     "output_type": "execute_result"
    }
   ],
   "source": [
    "import pandas as pd\n",
    "\n",
    "proyectos = pd.read_excel(\"D:\\\\data\\\\ProyectosFinalizados.xlsx\", sheet_name=\"base\")\n",
    "\n",
    "def limpiar_columna(columna):\n",
    "    # 1. Reemplazar caracteres especiales\n",
    "    columna = columna.replace(\" \", \"_\") \\\n",
    "        .replace(\"á\", \"a\") \\\n",
    "        .replace(\"é\", \"e\") \\\n",
    "        .replace(\"í\", \"i\") \\\n",
    "        .replace(\"ó\", \"o\") \\\n",
    "        .replace(\"ú\", \"u\") \\\n",
    "        .replace(\"ñ\", \"n\") \\\n",
    "        .replace(\"+\", \"_\") \\\n",
    "        .replace(\".\", \"_\") \\\n",
    "        .replace(\"(\", \"_\") \\\n",
    "        .replace(\")\", \"\")\n",
    "    import re\n",
    "    # 2. Poner un guion bajo entre cambio de letras de minúscula a mayúsculas\n",
    "    columna = re.sub(\"([a-z])([A-Z])\", \"\\\\1_\\\\2\", columna)\n",
    "    # 3. Poner un guion bajo entre ID y letra\n",
    "    columna = re.sub(\"ID([A-Za-z])\", \"ID_\\\\1\", columna)\n",
    "    # 4. Poner un guion bajo entre número y letra\n",
    "    columna = re.sub(\"([0-9])([A-Za-z])\", \"\\\\1_\\\\2\", columna)\n",
    "    # 4. Poner un guion bajo entre letra y número\n",
    "    columna = re.sub(\"([A-Za-z])([0-9])\", \"\\\\1_\\\\2\", columna)\n",
    "    # 5. Quitar un guion bajo entre letra y número\n",
    "    columna = re.sub(\"([A-Za-z])_([0-9])\", \"\\\\1\\\\2\", columna)\n",
    "    # 6. Poner un guion bajo entre letra y número final\n",
    "    columna = re.sub(\"([A-Za-z])([0-9])$\", \"\\\\1_\\\\2\", columna)\n",
    "    # 7. Convertir a mayúsculas\n",
    "    columna = columna.upper()\n",
    "    return columna\n",
    "\n",
    "proyectos.columns = map(limpiar_columna, proyectos.columns.values)\n",
    "\n",
    "proyectos.head()"
   ]
  },
  {
   "cell_type": "code",
   "execution_count": 2,
   "outputs": [
    {
     "data": {
      "text/plain": "0        486.04\n1        260.80\n2        698.49\n3        495.22\n4        105.16\n         ...   \n2950     822.44\n2951     173.94\n2952       0.00\n2953     286.22\n2954    1135.40\nName: ESFUERZO_TOTAL_R, Length: 2955, dtype: float64"
     },
     "execution_count": 2,
     "metadata": {},
     "output_type": "execute_result"
    }
   ],
   "source": [
    "proyectos[\"ESFUERZO_TOTAL_R\"]"
   ],
   "metadata": {
    "collapsed": false,
    "ExecuteTime": {
     "start_time": "2023-04-28T09:18:30.882175Z",
     "end_time": "2023-04-28T09:18:30.896924Z"
    }
   }
  },
  {
   "cell_type": "code",
   "execution_count": 3,
   "outputs": [
    {
     "data": {
      "text/plain": "<seaborn.axisgrid.FacetGrid at 0x1ef13debfa0>"
     },
     "execution_count": 3,
     "metadata": {},
     "output_type": "execute_result"
    },
    {
     "data": {
      "text/plain": "<Figure size 500x500 with 1 Axes>",
      "image/png": "[encoded data removed]"
     },
     "metadata": {},
     "output_type": "display_data"
    }
   ],
   "source": [
    "import seaborn as sns\n",
    "\n",
    "sns.displot(proyectos[\"ESFUERZO_TOTAL_R\"])"
   ],
   "metadata": {
    "collapsed": false,
    "ExecuteTime": {
     "start_time": "2023-04-28T09:18:51.495221Z",
     "end_time": "2023-04-28T09:18:55.396051Z"
    }
   }
  },
  {
   "cell_type": "code",
   "execution_count": 25,
   "outputs": [
    {
     "data": {
      "text/plain": "array([ 0.,  0.,  0., ..., nan,  0.,  0.])"
     },
     "execution_count": 25,
     "metadata": {},
     "output_type": "execute_result"
    }
   ],
   "source": [
    "from scipy.stats import gamma\n",
    "\n",
    "gamma.pdf(0.5, proyectos[\"ESFUERZO_TOTAL_R\"].values)"
   ],
   "metadata": {
    "collapsed": false,
    "ExecuteTime": {
     "start_time": "2023-04-28T09:32:03.614869Z",
     "end_time": "2023-04-28T09:32:03.636301Z"
    }
   }
  },
  {
   "cell_type": "code",
   "execution_count": 27,
   "outputs": [
    {
     "data": {
      "text/plain": "array([ 485.70670734,  260.46674251,  698.15669496, ...,           nan,\n        285.88673577, 1135.06668407])"
     },
     "execution_count": 27,
     "metadata": {},
     "output_type": "execute_result"
    }
   ],
   "source": [
    "gamma.ppf(0.5, proyectos[\"ESFUERZO_TOTAL_R\"].values)"
   ],
   "metadata": {
    "collapsed": false,
    "ExecuteTime": {
     "start_time": "2023-04-28T09:32:37.861573Z",
     "end_time": "2023-04-28T09:32:37.885226Z"
    }
   }
  },
  {
   "cell_type": "code",
   "execution_count": 30,
   "outputs": [
    {
     "data": {
      "text/plain": "(array([ 486.04,  260.8 ,  698.49, ...,     nan,  286.22, 1135.4 ]),\n array([ 486.04,  260.8 ,  698.49, ...,     nan,  286.22, 1135.4 ]),\n array([0.09071811, 0.12384435, 0.07567456, ...,        nan, 0.11821702,\n        0.05935476]),\n array([0.01234466, 0.02300613, 0.00858996, ...,        nan, 0.0209629 ,\n        0.00528448]))"
     },
     "execution_count": 30,
     "metadata": {},
     "output_type": "execute_result"
    }
   ],
   "source": [
    "gamma.stats(proyectos[\"ESFUERZO_TOTAL_R\"].values, moments='mvsk')"
   ],
   "metadata": {
    "collapsed": false,
    "ExecuteTime": {
     "start_time": "2023-04-28T09:33:34.783524Z",
     "end_time": "2023-04-28T09:33:34.800358Z"
    }
   }
  },
  {
   "cell_type": "code",
   "execution_count": 33,
   "outputs": [
    {
     "data": {
      "text/plain": "<seaborn.axisgrid.FacetGrid at 0x1ef327f07c0>"
     },
     "execution_count": 33,
     "metadata": {},
     "output_type": "execute_result"
    },
    {
     "data": {
      "text/plain": "<Figure size 500x500 with 1 Axes>",
      "image/png": "[encoded data removed]"
     },
     "metadata": {},
     "output_type": "display_data"
    }
   ],
   "source": [
    "import numpy as np\n",
    "\n",
    "x = np.random.gamma(0.2, 500, 1000)\n",
    "\n",
    "sns.displot(x)"
   ],
   "metadata": {
    "collapsed": false,
    "ExecuteTime": {
     "start_time": "2023-04-28T09:34:38.600874Z",
     "end_time": "2023-04-28T09:34:39.008626Z"
    }
   }
  }
 ],
 "metadata": {
  "kernelspec": {
   "display_name": "Python 3",
   "language": "python",
   "name": "python3"
  },
  "language_info": {
   "codemirror_mode": {
    "name": "ipython",
    "version": 2
   },
   "file_extension": ".py",
   "mimetype": "text/x-python",
   "name": "python",
   "nbconvert_exporter": "python",
   "pygments_lexer": "ipython2",
   "version": "2.7.6"
  }
 },
 "nbformat": 4,
 "nbformat_minor": 0
}
